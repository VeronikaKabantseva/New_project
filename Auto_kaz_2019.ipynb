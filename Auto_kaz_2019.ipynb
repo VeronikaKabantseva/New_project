{
 "cells": [
  {
   "cell_type": "markdown",
   "metadata": {},
   "source": [
    "# Проект \"Анализ авторынка Казахстана\""
   ]
  },
  {
   "cell_type": "markdown",
   "metadata": {},
   "source": [
    "Для анализа представлен датасет с данными по продажам автомобилей в Казахстане за 2019 год. Данные получены из официальной статистики VAG, после перевода из эксель в csv обнаружились множественные проблемы с исходными данными. Необходимо провести предобработку данных, исследовать рынок автомобилей Казахстана и рассмотреть долю рынка автодилера Mercur Auto и дать соответсвующие рекомендации по увеличению доли."
   ]
  },
  {
   "cell_type": "markdown",
   "metadata": {
    "toc": true
   },
   "source": [
    "<h1>Table of Contents<span class=\"tocSkip\"></span></h1>\n",
    "<div class=\"toc\"><ul class=\"toc-item\"><li><span><a href=\"#Загрузка-данных\" data-toc-modified-id=\"Загрузка-данных-1\"><span class=\"toc-item-num\">1&nbsp;&nbsp;</span>Загрузка данных</a></span></li><li><span><a href=\"#Предобработка-данных\" data-toc-modified-id=\"Предобработка-данных-2\"><span class=\"toc-item-num\">2&nbsp;&nbsp;</span>Предобработка данных</a></span><ul class=\"toc-item\"><li><span><a href=\"#Удаление-пропусков\" data-toc-modified-id=\"Удаление-пропусков-2.1\"><span class=\"toc-item-num\">2.1&nbsp;&nbsp;</span>Удаление пропусков</a></span></li><li><span><a href=\"#Кодировка-стран-в-alpha3\" data-toc-modified-id=\"Кодировка-стран-в-alpha3-2.2\"><span class=\"toc-item-num\">2.2&nbsp;&nbsp;</span>Кодировка стран в alpha3</a></span></li><li><span><a href=\"#Кодировка-типов-топлива\" data-toc-modified-id=\"Кодировка-типов-топлива-2.3\"><span class=\"toc-item-num\">2.3&nbsp;&nbsp;</span>Кодировка типов топлива</a></span></li><li><span><a href=\"#Удаляем-неявные-дубликаты-в-столбце-'тип-привода'\" data-toc-modified-id=\"Удаляем-неявные-дубликаты-в-столбце-'тип-привода'-2.4\"><span class=\"toc-item-num\">2.4&nbsp;&nbsp;</span>Удаляем неявные дубликаты в столбце 'тип привода'</a></span></li><li><span><a href=\"#Кодировка-коробки-передач\" data-toc-modified-id=\"Кодировка-коробки-передач-2.5\"><span class=\"toc-item-num\">2.5&nbsp;&nbsp;</span>Кодировка коробки передач</a></span></li><li><span><a href=\"#Приведение-года-выпуска-к-единому-формату\" data-toc-modified-id=\"Приведение-года-выпуска-к-единому-формату-2.6\"><span class=\"toc-item-num\">2.6&nbsp;&nbsp;</span>Приведение года выпуска к единому формату</a></span></li><li><span><a href=\"#Удалим-аномалии-в-столбце-с-объемом-двигателя\" data-toc-modified-id=\"Удалим-аномалии-в-столбце-с-объемом-двигателя-2.7\"><span class=\"toc-item-num\">2.7&nbsp;&nbsp;</span>Удалим аномалии в столбце с объемом двигателя</a></span></li><li><span><a href=\"#Удалим-неявные-дубликаты-в-столбце-с-названием-компаний\" data-toc-modified-id=\"Удалим-неявные-дубликаты-в-столбце-с-названием-компаний-2.8\"><span class=\"toc-item-num\">2.8&nbsp;&nbsp;</span>Удалим неявные дубликаты в столбце с названием компаний</a></span></li><li><span><a href=\"#Предобработка-столбцов,-с-данными-о-ценах\" data-toc-modified-id=\"Предобработка-столбцов,-с-данными-о-ценах-2.9\"><span class=\"toc-item-num\">2.9&nbsp;&nbsp;</span>Предобработка столбцов, с данными о ценах</a></span></li><li><span><a href=\"#Преобразование-типов-оставшихся-столбцов\" data-toc-modified-id=\"Преобразование-типов-оставшихся-столбцов-2.10\"><span class=\"toc-item-num\">2.10&nbsp;&nbsp;</span>Преобразование типов оставшихся столбцов</a></span><ul class=\"toc-item\"><li><ul class=\"toc-item\"><li><span><a href=\"#Количество\" data-toc-modified-id=\"Количество-2.10.0.1\"><span class=\"toc-item-num\">2.10.0.1&nbsp;&nbsp;</span>Количество</a></span></li><li><span><a href=\"#Сегменты-и-категории\" data-toc-modified-id=\"Сегменты-и-категории-2.10.0.2\"><span class=\"toc-item-num\">2.10.0.2&nbsp;&nbsp;</span>Сегменты и категории</a></span></li></ul></li></ul></li><li><span><a href=\"#Создадим-единый-столбец-с-данными-о-дате-продажи-автомобиля\" data-toc-modified-id=\"Создадим-единый-столбец-с-данными-о-дате-продажи-автомобиля-2.11\"><span class=\"toc-item-num\">2.11&nbsp;&nbsp;</span>Создадим единый столбец с данными о дате продажи автомобиля</a></span></li><li><span><a href=\"#Проверка-предобработки\" data-toc-modified-id=\"Проверка-предобработки-2.12\"><span class=\"toc-item-num\">2.12&nbsp;&nbsp;</span>Проверка предобработки</a></span><ul class=\"toc-item\"><li><ul class=\"toc-item\"><li><ul class=\"toc-item\"><li><span><a href=\"#Вывод:\" data-toc-modified-id=\"Вывод:-2.12.0.0.1\"><span class=\"toc-item-num\">2.12.0.0.1&nbsp;&nbsp;</span>Вывод:</a></span></li></ul></li></ul></li></ul></li><li><span><a href=\"#Анализ-рынка\" data-toc-modified-id=\"Анализ-рынка-2.13\"><span class=\"toc-item-num\">2.13&nbsp;&nbsp;</span>Анализ рынка</a></span><ul class=\"toc-item\"><li><span><a href=\"#Топовые-марки-на-рынке-Казахстана:-в-денежном-и-натуральном-выражении-(5-10-марок)\" data-toc-modified-id=\"Топовые-марки-на-рынке-Казахстана:-в-денежном-и-натуральном-выражении-(5-10-марок)-2.13.1\"><span class=\"toc-item-num\">2.13.1&nbsp;&nbsp;</span>Топовые марки на рынке Казахстана: в денежном и натуральном выражении (5-10 марок)</a></span></li><li><span><a href=\"#Продажи-на-рынке-Казахстана-всех-марок-в-денежном-и-натуральном-выражении\" data-toc-modified-id=\"Продажи-на-рынке-Казахстана-всех-марок-в-денежном-и-натуральном-выражении-2.13.2\"><span class=\"toc-item-num\">2.13.2&nbsp;&nbsp;</span>Продажи на рынке Казахстана всех марок в денежном и натуральном выражении</a></span></li><li><span><a href=\"#Динамика-продаж-в-целом-по-рынку:-в-денежном-и-натуральном-выражении-(помесячно)\" data-toc-modified-id=\"Динамика-продаж-в-целом-по-рынку:-в-денежном-и-натуральном-выражении-(помесячно)-2.13.3\"><span class=\"toc-item-num\">2.13.3&nbsp;&nbsp;</span>Динамика продаж в целом по рынку: в денежном и натуральном выражении (помесячно)</a></span></li></ul></li><li><span><a href=\"#Динамика-продаж-по-категориям-(помесячно):-тип-топлива,-класс,-сегмент\" data-toc-modified-id=\"Динамика-продаж-по-категориям-(помесячно):-тип-топлива,-класс,-сегмент-2.14\"><span class=\"toc-item-num\">2.14&nbsp;&nbsp;</span>Динамика продаж по категориям (помесячно): тип топлива, класс, сегмент</a></span><ul class=\"toc-item\"><li><ul class=\"toc-item\"><li><ul class=\"toc-item\"><li><span><a href=\"#Тип-топлива\" data-toc-modified-id=\"Тип-топлива-2.14.0.0.1\"><span class=\"toc-item-num\">2.14.0.0.1&nbsp;&nbsp;</span>Тип топлива</a></span></li><li><span><a href=\"#Класс\" data-toc-modified-id=\"Класс-2.14.0.0.2\"><span class=\"toc-item-num\">2.14.0.0.2&nbsp;&nbsp;</span>Класс</a></span></li><li><span><a href=\"#Сегмент\" data-toc-modified-id=\"Сегмент-2.14.0.0.3\"><span class=\"toc-item-num\">2.14.0.0.3&nbsp;&nbsp;</span>Сегмент</a></span></li></ul></li></ul></li></ul></li><li><span><a href=\"#Продажи-по-регионам\" data-toc-modified-id=\"Продажи-по-регионам-2.15\"><span class=\"toc-item-num\">2.15&nbsp;&nbsp;</span>Продажи по регионам</a></span></li><li><span><a href=\"#Продажи-по-автоцентрам\" data-toc-modified-id=\"Продажи-по-автоцентрам-2.16\"><span class=\"toc-item-num\">2.16&nbsp;&nbsp;</span>Продажи по автоцентрам</a></span></li><li><span><a href=\"#Cводные-таблицы\" data-toc-modified-id=\"Cводные-таблицы-2.17\"><span class=\"toc-item-num\">2.17&nbsp;&nbsp;</span>Cводные таблицы</a></span><ul class=\"toc-item\"><li><ul class=\"toc-item\"><li><ul class=\"toc-item\"><li><span><a href=\"#Вывод:\" data-toc-modified-id=\"Вывод:-2.17.0.0.1\"><span class=\"toc-item-num\">2.17.0.0.1&nbsp;&nbsp;</span>Вывод:</a></span></li></ul></li></ul></li></ul></li></ul></li><li><span><a href=\"#Расчет-показателей\" data-toc-modified-id=\"Расчет-показателей-3\"><span class=\"toc-item-num\">3&nbsp;&nbsp;</span>Расчет показателей</a></span><ul class=\"toc-item\"><li><span><a href=\"#Прибыль-и-выручка\" data-toc-modified-id=\"Прибыль-и-выручка-3.1\"><span class=\"toc-item-num\">3.1&nbsp;&nbsp;</span>Прибыль и выручка</a></span><ul class=\"toc-item\"><li><span><a href=\"#Прибыль-и-выручка-за-период\" data-toc-modified-id=\"Прибыль-и-выручка-за-период-3.1.1\"><span class=\"toc-item-num\">3.1.1&nbsp;&nbsp;</span>Прибыль и выручка за период</a></span></li><li><span><a href=\"#Прибыль-и-выручка-помесячно:\" data-toc-modified-id=\"Прибыль-и-выручка-помесячно:-3.1.2\"><span class=\"toc-item-num\">3.1.2&nbsp;&nbsp;</span>Прибыль и выручка помесячно:</a></span></li></ul></li><li><span><a href=\"#Рынок\" data-toc-modified-id=\"Рынок-3.2\"><span class=\"toc-item-num\">3.2&nbsp;&nbsp;</span>Рынок</a></span><ul class=\"toc-item\"><li><span><a href=\"#Емкость-рынка\" data-toc-modified-id=\"Емкость-рынка-3.2.1\"><span class=\"toc-item-num\">3.2.1&nbsp;&nbsp;</span>Емкость рынка</a></span></li><li><span><a href=\"#Емкость-сегментов-рынка-(по-маркам-и-типам-авто)\" data-toc-modified-id=\"Емкость-сегментов-рынка-(по-маркам-и-типам-авто)-3.2.2\"><span class=\"toc-item-num\">3.2.2&nbsp;&nbsp;</span>Емкость сегментов рынка (по маркам и типам авто)</a></span></li></ul></li><li><span><a href=\"#Доля-рынка\" data-toc-modified-id=\"Доля-рынка-3.3\"><span class=\"toc-item-num\">3.3&nbsp;&nbsp;</span>Доля рынка</a></span><ul class=\"toc-item\"><li><span><a href=\"#Общая-доля-рынка-дилера-в-количественном-и-стоимостном-выражении\" data-toc-modified-id=\"Общая-доля-рынка-дилера-в-количественном-и-стоимостном-выражении-3.3.1\"><span class=\"toc-item-num\">3.3.1&nbsp;&nbsp;</span>Общая доля рынка дилера в количественном и стоимостном выражении</a></span></li><li><span><a href=\"#Доля-рынка-дилера-по-маркам\" data-toc-modified-id=\"Доля-рынка-дилера-по-маркам-3.3.2\"><span class=\"toc-item-num\">3.3.2&nbsp;&nbsp;</span>Доля рынка дилера по маркам</a></span></li><li><span><a href=\"#Посчитать-долю-рынка-дилера-по-типам-машин\" data-toc-modified-id=\"Посчитать-долю-рынка-дилера-по-типам-машин-3.3.3\"><span class=\"toc-item-num\">3.3.3&nbsp;&nbsp;</span>Посчитать долю рынка дилера по типам машин</a></span></li></ul></li><li><span><a href=\"#Конкуренты\" data-toc-modified-id=\"Конкуренты-3.4\"><span class=\"toc-item-num\">3.4&nbsp;&nbsp;</span>Конкуренты</a></span><ul class=\"toc-item\"><li><ul class=\"toc-item\"><li><ul class=\"toc-item\"><li><span><a href=\"#Сравнение-с-Allur-Auto.\" data-toc-modified-id=\"Сравнение-с-Allur-Auto.-3.4.0.0.1\"><span class=\"toc-item-num\">3.4.0.0.1&nbsp;&nbsp;</span>Сравнение с Allur Auto.</a></span></li><li><span><a href=\"#Сравнение-с-Nissan-Manufacturing-RUS.\" data-toc-modified-id=\"Сравнение-с-Nissan-Manufacturing-RUS.-3.4.0.0.2\"><span class=\"toc-item-num\">3.4.0.0.2&nbsp;&nbsp;</span>Сравнение с Nissan Manufacturing RUS.</a></span></li><li><span><a href=\"#Сравнение-с-Автоцентр-Бавария.\" data-toc-modified-id=\"Сравнение-с-Автоцентр-Бавария.-3.4.0.0.3\"><span class=\"toc-item-num\">3.4.0.0.3&nbsp;&nbsp;</span>Сравнение с Автоцентр Бавария.</a></span></li></ul></li></ul></li></ul></li></ul></li><li><span><a href=\"#Вывод:\" data-toc-modified-id=\"Вывод:-4\"><span class=\"toc-item-num\">4&nbsp;&nbsp;</span>Вывод:</a></span></li></ul></div>"
   ]
  },
  {
   "cell_type": "markdown",
   "metadata": {},
   "source": [
    "## Загрузка данных"
   ]
  },
  {
   "cell_type": "code",
   "execution_count": 1,
   "metadata": {},
   "outputs": [
    {
     "name": "stdout",
     "output_type": "stream",
     "text": [
      "Requirement already satisfied: gdown in d:\\anaconda\\lib\\site-packages (4.7.1)\n",
      "Requirement already satisfied: filelock in d:\\anaconda\\lib\\site-packages (from gdown) (3.0.8)\n",
      "Requirement already satisfied: requests[socks] in d:\\anaconda\\lib\\site-packages (from gdown) (2.19.1)\n",
      "Requirement already satisfied: six in d:\\anaconda\\lib\\site-packages (from gdown) (1.11.0)\n",
      "Requirement already satisfied: tqdm in d:\\anaconda\\lib\\site-packages (from gdown) (4.26.0)\n",
      "Requirement already satisfied: beautifulsoup4 in d:\\anaconda\\lib\\site-packages (from gdown) (4.6.3)\n",
      "Requirement already satisfied: chardet<3.1.0,>=3.0.2 in d:\\anaconda\\lib\\site-packages (from requests[socks]->gdown) (3.0.4)\n",
      "Requirement already satisfied: idna<2.8,>=2.5 in d:\\anaconda\\lib\\site-packages (from requests[socks]->gdown) (2.7)\n",
      "Requirement already satisfied: urllib3<1.24,>=1.21.1 in d:\\anaconda\\lib\\site-packages (from requests[socks]->gdown) (1.23)\n",
      "Requirement already satisfied: certifi>=2017.4.17 in d:\\anaconda\\lib\\site-packages (from requests[socks]->gdown) (2018.8.24)\n",
      "Requirement already satisfied: PySocks!=1.5.7,>=1.5.6 in d:\\anaconda\\lib\\site-packages (from requests[socks]->gdown) (1.6.8)\n"
     ]
    }
   ],
   "source": [
    "! pip install gdown"
   ]
  },
  {
   "cell_type": "code",
   "execution_count": 2,
   "metadata": {},
   "outputs": [],
   "source": [
    "# импорт необходимых библиотек\n",
    "\n",
    "import pandas as pd\n",
    "import datetime as dt\n",
    "import seaborn as sns\n",
    "import math as mth\n",
    "import numpy as np\n",
    "import squarify \n",
    "import gdown\n",
    "import matplotlib.pyplot as plt\n",
    "from scipy import stats as st\n",
    "from pandas.plotting import register_matplotlib_converters\n",
    "import warnings\n",
    "# конвертеры, которые позволяют использовать типы pandas в matplotlib  \n",
    "register_matplotlib_converters()\n"
   ]
  },
  {
   "cell_type": "code",
   "execution_count": 3,
   "metadata": {},
   "outputs": [],
   "source": [
    "#настройки отображения и поведения библиотек\n",
    "pd.options.display.max_rows = 100\n",
    "pd.options.display.max_columns = 50\n",
    "\n",
    "pd.options.mode.chained_assignment = None\n",
    "pd.set_option('display.max_colwidth', 1000)"
   ]
  },
  {
   "cell_type": "code",
   "execution_count": 4,
   "metadata": {},
   "outputs": [
    {
     "name": "stderr",
     "output_type": "stream",
     "text": [
      "D:\\anaconda\\lib\\site-packages\\IPython\\core\\interactiveshell.py:2785: DtypeWarning: Columns (7) have mixed types.Specify dtype option on import or set low_memory=False.\n",
      "  interactivity=interactivity, compiler=compiler, result=result)\n"
     ]
    }
   ],
   "source": [
    "try:\n",
    "    data = pd.read_csv(\"C://Users//Вероника//Downloads//kz_2019_final.csv\", index_col = 0, decimal = ',', encoding = 'utf-8')\n",
    "except: \n",
    "    url = 'https://drive.google.com/file/d/1MMxWPMuUTBfhBKmzbD5huf2U632xsd3K/view?usp=sharing'\n",
    "    file_path = 'kz_2019_final.csv'\n",
    "    gdown.download(url, file_path)\n",
    "    data = pd.read_csv(file_path, sep=',', index_col=0)\n"
   ]
  },
  {
   "cell_type": "markdown",
   "metadata": {},
   "source": [
    "## Предобработка данных"
   ]
  },
  {
   "cell_type": "code",
   "execution_count": 5,
   "metadata": {},
   "outputs": [],
   "source": [
    "#функция с кратким описанием датасета\n",
    "def basic_information(df):\n",
    "    print('Общая информация о датафрейме:')\n",
    "    print(df.info())\n",
    "    print('********************************')\n",
    "    print('Первые 5 строк датафрейма:')\n",
    "    print(df.head())\n",
    "    print('********************************')\n",
    "    print('Количество пропусков в датафрейме:')\n",
    "    print(df.isna().sum())\n",
    "    print('********************************')\n",
    "    print('Количество дубликатов в датафрейме:')\n",
    "    print(df.duplicated().sum())"
   ]
  },
  {
   "cell_type": "code",
   "execution_count": 6,
   "metadata": {},
   "outputs": [
    {
     "name": "stdout",
     "output_type": "stream",
     "text": [
      "Общая информация о датафрейме:\n",
      "<class 'pandas.core.frame.DataFrame'>\n",
      "Int64Index: 32854 entries, 0 to 32853\n",
      "Data columns (total 25 columns):\n",
      " #   Column                          Non-Null Count  Dtype \n",
      "---  ------                          --------------  ----- \n",
      " 0   Год                             32854 non-null  int64 \n",
      " 1   Месяц                           32854 non-null  object\n",
      " 2   Компания                        32854 non-null  object\n",
      " 3   Бренд                           32854 non-null  object\n",
      " 4   Модель                          32854 non-null  object\n",
      " 5   Модификация                     29729 non-null  object\n",
      " 6   Год выпуска                     32700 non-null  object\n",
      " 7   Страна-производитель            32854 non-null  object\n",
      " 8   Вид топлива                     31942 non-null  object\n",
      " 9   Объём двиг, л,                  30968 non-null  object\n",
      " 10  Коробка передач                 31662 non-null  object\n",
      " 11  Тип привода                     30589 non-null  object\n",
      " 12  Сегмент                         28066 non-null  object\n",
      " 13  Регион                          32854 non-null  object\n",
      " 14  Наименование дилерского центра  32854 non-null  object\n",
      " 15  Тип клиента                     27124 non-null  object\n",
      " 16  Форма расчета                   7079 non-null   object\n",
      " 17  Количество                      32849 non-null  object\n",
      " 18  Цена, USD                       32854 non-null  object\n",
      " 19  Продажа, USD                    32854 non-null  object\n",
      " 20  Область                         32854 non-null  object\n",
      " 21  Сегментация 2013                32854 non-null  object\n",
      " 22  Класс 2013                      32854 non-null  object\n",
      " 23  Сегментация Eng                 32854 non-null  object\n",
      " 24  Локализация производства        32854 non-null  object\n",
      "dtypes: int64(1), object(24)\n",
      "memory usage: 6.5+ MB\n",
      "None\n",
      "********************************\n",
      "Первые 5 строк датафрейма:\n",
      "    Год Месяц     Компания Бренд Модель      Модификация Год выпуска  \\\n",
      "0  2019  Март  Mercur Auto  Audi     A3     Audi A3 TFSI        2017   \n",
      "1  2019   Май  Mercur Auto  Audi     A3             TFSI        2018   \n",
      "2  2019  Июнь  Mercur Auto  Audi     A3             TFSI        2018   \n",
      "3  2019  Июль  Mercur Auto  Audi     A3             TFSI        2017   \n",
      "4  2019  Июль  Mercur Auto  Audi     A4  A4 Allroad TFSI        2017   \n",
      "\n",
      "  Страна-производитель Вид топлива Объём двиг, л, Коробка передач Тип привода  \\\n",
      "0             Германия      Бензин            1.4        S-tronic         NaN   \n",
      "1             Германия      Бензин            1.4        S-Тronic         FWD   \n",
      "2             Германия      Бензин            1.4         S-Тroic         FWD   \n",
      "3             Германия      Бензин            1.4         S-troic    передний   \n",
      "4             Германия      Бензин              2         S-troic     quattro   \n",
      "\n",
      "                       Сегмент  Регион Наименование дилерского центра  \\\n",
      "0  Легковые автомобили Premium  Алматы             Mercur Auto Алматы   \n",
      "1  Легковые автомобили Premium  Алматы             Mercur Auto Алматы   \n",
      "2  Легковые автомобили Premium  Алматы             Mercur Auto Астана   \n",
      "3  Легковые автомобили Premium  Алматы             Mercur Auto Алматы   \n",
      "4  Легковые автомобили Premium  Алматы             Mercur Auto Алматы   \n",
      "\n",
      "  Тип клиента Форма расчета Количество           Цена, USD  \\\n",
      "0   Физ. Лицо   безналичный        1.0             31250.0   \n",
      "1   Физ. Лицо      наличный        1.0             30581.0   \n",
      "2   Физ. Лицо      наличный        1.0           35087.719   \n",
      "3   Физ. Лицо      наличный        1.0  26608.232900297386   \n",
      "4    Юр. Лицо   безналичный        1.0   48343.98264845536   \n",
      "\n",
      "         Продажа, USD   Область      Сегментация 2013 Класс 2013  \\\n",
      "0             31250.0  г.Алматы  Легковые автомобили    C класс    \n",
      "1             30581.0  г.Алматы  Легковые автомобили    C класс    \n",
      "2           35087.719  г.Алматы  Легковые автомобили    C класс    \n",
      "3  26608.232900297386  г.Алматы  Легковые автомобили    C класс    \n",
      "4   48343.98264845536  г.Алматы  Легковые автомобили    D класс    \n",
      "\n",
      "  Сегментация Eng Локализация производства  \n",
      "0               C                   Импорт  \n",
      "1               C                   Импорт  \n",
      "2               C                   Импорт  \n",
      "3               C                   Импорт  \n",
      "4               D                   Импорт  \n",
      "********************************\n",
      "Количество пропусков в датафрейме:\n",
      "Год                                   0\n",
      "Месяц                                 0\n",
      "Компания                              0\n",
      "Бренд                                 0\n",
      "Модель                                0\n",
      "Модификация                        3125\n",
      "Год выпуска                         154\n",
      "Страна-производитель                  0\n",
      "Вид топлива                         912\n",
      "Объём двиг, л,                     1886\n",
      "Коробка передач                    1192\n",
      "Тип привода                        2265\n",
      "Сегмент                            4788\n",
      "Регион                                0\n",
      "Наименование дилерского центра        0\n",
      "Тип клиента                        5730\n",
      "Форма расчета                     25775\n",
      "Количество                            5\n",
      "Цена, USD                             0\n",
      "Продажа, USD                          0\n",
      "Область                               0\n",
      "Сегментация 2013                      0\n",
      "Класс 2013                            0\n",
      "Сегментация Eng                       0\n",
      "Локализация производства              0\n",
      "dtype: int64\n",
      "********************************\n",
      "Количество дубликатов в датафрейме:\n",
      "13356\n"
     ]
    }
   ],
   "source": [
    "basic_information(data)"
   ]
  },
  {
   "cell_type": "markdown",
   "metadata": {},
   "source": [
    "В данном датасете обнаружено большое количество пропусков, неверные типы данных и неявные дубликаты"
   ]
  },
  {
   "cell_type": "markdown",
   "metadata": {},
   "source": [
    "Для начала удалим лишние столбцы, которые содержат большое количество пропусков и не будут влиять на результаты анализа."
   ]
  },
  {
   "cell_type": "code",
   "execution_count": 7,
   "metadata": {},
   "outputs": [],
   "source": [
    "data.drop(['Модификация', 'Сегмент', 'Наименование дилерского центра', 'Тип клиента', 'Форма расчета', \\\n",
    "           'Область', 'Локализация производства', 'Сегментация Eng'], axis= 1 , inplace= True)"
   ]
  },
  {
   "cell_type": "markdown",
   "metadata": {},
   "source": [
    "Переведем названия столбцов и переименуем их в соответствие со змеиным регитсром"
   ]
  },
  {
   "cell_type": "code",
   "execution_count": 8,
   "metadata": {},
   "outputs": [],
   "source": [
    "data.columns = ['year', 'month', 'company', 'brand', 'model', 'year_of_release', 'country', 'fuel_type', 'volume_engine',\\\n",
    "               'gearbox', 'gearing', 'region', 'quantity', 'price_usd', 'really_price', 'segment_2013', 'class_2013']"
   ]
  },
  {
   "cell_type": "markdown",
   "metadata": {},
   "source": [
    "Проверка"
   ]
  },
  {
   "cell_type": "code",
   "execution_count": 9,
   "metadata": {},
   "outputs": [
    {
     "data": {
      "text/html": [
       "<div>\n",
       "<style scoped>\n",
       "    .dataframe tbody tr th:only-of-type {\n",
       "        vertical-align: middle;\n",
       "    }\n",
       "\n",
       "    .dataframe tbody tr th {\n",
       "        vertical-align: top;\n",
       "    }\n",
       "\n",
       "    .dataframe thead th {\n",
       "        text-align: right;\n",
       "    }\n",
       "</style>\n",
       "<table border=\"1\" class=\"dataframe\">\n",
       "  <thead>\n",
       "    <tr style=\"text-align: right;\">\n",
       "      <th></th>\n",
       "      <th>year</th>\n",
       "      <th>month</th>\n",
       "      <th>company</th>\n",
       "      <th>brand</th>\n",
       "      <th>model</th>\n",
       "      <th>year_of_release</th>\n",
       "      <th>country</th>\n",
       "      <th>fuel_type</th>\n",
       "      <th>volume_engine</th>\n",
       "      <th>gearbox</th>\n",
       "      <th>gearing</th>\n",
       "      <th>region</th>\n",
       "      <th>quantity</th>\n",
       "      <th>price_usd</th>\n",
       "      <th>really_price</th>\n",
       "      <th>segment_2013</th>\n",
       "      <th>class_2013</th>\n",
       "    </tr>\n",
       "  </thead>\n",
       "  <tbody>\n",
       "    <tr>\n",
       "      <th>0</th>\n",
       "      <td>2019</td>\n",
       "      <td>Март</td>\n",
       "      <td>Mercur Auto</td>\n",
       "      <td>Audi</td>\n",
       "      <td>A3</td>\n",
       "      <td>2017</td>\n",
       "      <td>Германия</td>\n",
       "      <td>Бензин</td>\n",
       "      <td>1.4</td>\n",
       "      <td>S-tronic</td>\n",
       "      <td>NaN</td>\n",
       "      <td>Алматы</td>\n",
       "      <td>1.0</td>\n",
       "      <td>31250.0</td>\n",
       "      <td>31250.0</td>\n",
       "      <td>Легковые автомобили</td>\n",
       "      <td>C класс</td>\n",
       "    </tr>\n",
       "    <tr>\n",
       "      <th>1</th>\n",
       "      <td>2019</td>\n",
       "      <td>Май</td>\n",
       "      <td>Mercur Auto</td>\n",
       "      <td>Audi</td>\n",
       "      <td>A3</td>\n",
       "      <td>2018</td>\n",
       "      <td>Германия</td>\n",
       "      <td>Бензин</td>\n",
       "      <td>1.4</td>\n",
       "      <td>S-Тronic</td>\n",
       "      <td>FWD</td>\n",
       "      <td>Алматы</td>\n",
       "      <td>1.0</td>\n",
       "      <td>30581.0</td>\n",
       "      <td>30581.0</td>\n",
       "      <td>Легковые автомобили</td>\n",
       "      <td>C класс</td>\n",
       "    </tr>\n",
       "    <tr>\n",
       "      <th>2</th>\n",
       "      <td>2019</td>\n",
       "      <td>Июнь</td>\n",
       "      <td>Mercur Auto</td>\n",
       "      <td>Audi</td>\n",
       "      <td>A3</td>\n",
       "      <td>2018</td>\n",
       "      <td>Германия</td>\n",
       "      <td>Бензин</td>\n",
       "      <td>1.4</td>\n",
       "      <td>S-Тroic</td>\n",
       "      <td>FWD</td>\n",
       "      <td>Алматы</td>\n",
       "      <td>1.0</td>\n",
       "      <td>35087.719</td>\n",
       "      <td>35087.719</td>\n",
       "      <td>Легковые автомобили</td>\n",
       "      <td>C класс</td>\n",
       "    </tr>\n",
       "    <tr>\n",
       "      <th>3</th>\n",
       "      <td>2019</td>\n",
       "      <td>Июль</td>\n",
       "      <td>Mercur Auto</td>\n",
       "      <td>Audi</td>\n",
       "      <td>A3</td>\n",
       "      <td>2017</td>\n",
       "      <td>Германия</td>\n",
       "      <td>Бензин</td>\n",
       "      <td>1.4</td>\n",
       "      <td>S-troic</td>\n",
       "      <td>передний</td>\n",
       "      <td>Алматы</td>\n",
       "      <td>1.0</td>\n",
       "      <td>26608.232900297386</td>\n",
       "      <td>26608.232900297386</td>\n",
       "      <td>Легковые автомобили</td>\n",
       "      <td>C класс</td>\n",
       "    </tr>\n",
       "    <tr>\n",
       "      <th>4</th>\n",
       "      <td>2019</td>\n",
       "      <td>Июль</td>\n",
       "      <td>Mercur Auto</td>\n",
       "      <td>Audi</td>\n",
       "      <td>A4</td>\n",
       "      <td>2017</td>\n",
       "      <td>Германия</td>\n",
       "      <td>Бензин</td>\n",
       "      <td>2</td>\n",
       "      <td>S-troic</td>\n",
       "      <td>quattro</td>\n",
       "      <td>Алматы</td>\n",
       "      <td>1.0</td>\n",
       "      <td>48343.98264845536</td>\n",
       "      <td>48343.98264845536</td>\n",
       "      <td>Легковые автомобили</td>\n",
       "      <td>D класс</td>\n",
       "    </tr>\n",
       "  </tbody>\n",
       "</table>\n",
       "</div>"
      ],
      "text/plain": [
       "   year month      company brand model year_of_release   country fuel_type  \\\n",
       "0  2019  Март  Mercur Auto  Audi    A3            2017  Германия    Бензин   \n",
       "1  2019   Май  Mercur Auto  Audi    A3            2018  Германия    Бензин   \n",
       "2  2019  Июнь  Mercur Auto  Audi    A3            2018  Германия    Бензин   \n",
       "3  2019  Июль  Mercur Auto  Audi    A3            2017  Германия    Бензин   \n",
       "4  2019  Июль  Mercur Auto  Audi    A4            2017  Германия    Бензин   \n",
       "\n",
       "  volume_engine   gearbox   gearing  region quantity           price_usd  \\\n",
       "0           1.4  S-tronic       NaN  Алматы      1.0             31250.0   \n",
       "1           1.4  S-Тronic       FWD  Алматы      1.0             30581.0   \n",
       "2           1.4   S-Тroic       FWD  Алматы      1.0           35087.719   \n",
       "3           1.4   S-troic  передний  Алматы      1.0  26608.232900297386   \n",
       "4             2   S-troic   quattro  Алматы      1.0   48343.98264845536   \n",
       "\n",
       "         really_price          segment_2013 class_2013  \n",
       "0             31250.0  Легковые автомобили    C класс   \n",
       "1             30581.0  Легковые автомобили    C класс   \n",
       "2           35087.719  Легковые автомобили    C класс   \n",
       "3  26608.232900297386  Легковые автомобили    C класс   \n",
       "4   48343.98264845536  Легковые автомобили    D класс   "
      ]
     },
     "execution_count": 9,
     "metadata": {},
     "output_type": "execute_result"
    }
   ],
   "source": [
    "data.head()"
   ]
  },
  {
   "cell_type": "markdown",
   "metadata": {},
   "source": [
    "Проверим количество пропусков в датасете"
   ]
  },
  {
   "cell_type": "code",
   "execution_count": 10,
   "metadata": {},
   "outputs": [
    {
     "data": {
      "text/plain": [
       "year                  0\n",
       "month                 0\n",
       "company               0\n",
       "brand                 0\n",
       "model                 0\n",
       "year_of_release     154\n",
       "country               0\n",
       "fuel_type           912\n",
       "volume_engine      1886\n",
       "gearbox            1192\n",
       "gearing            2265\n",
       "region                0\n",
       "quantity              5\n",
       "price_usd             0\n",
       "really_price          0\n",
       "segment_2013          0\n",
       "class_2013            0\n",
       "dtype: int64"
      ]
     },
     "execution_count": 10,
     "metadata": {},
     "output_type": "execute_result"
    }
   ],
   "source": [
    "data.isna().sum()"
   ]
  },
  {
   "cell_type": "markdown",
   "metadata": {},
   "source": [
    "### Удаление пропусков"
   ]
  },
  {
   "cell_type": "markdown",
   "metadata": {},
   "source": [
    "Удалим строки с пропусками"
   ]
  },
  {
   "cell_type": "code",
   "execution_count": 11,
   "metadata": {},
   "outputs": [
    {
     "name": "stdout",
     "output_type": "stream",
     "text": [
      "<class 'pandas.core.frame.DataFrame'>\n",
      "Int64Index: 30214 entries, 1 to 32853\n",
      "Data columns (total 17 columns):\n",
      " #   Column           Non-Null Count  Dtype \n",
      "---  ------           --------------  ----- \n",
      " 0   year             30214 non-null  int64 \n",
      " 1   month            30214 non-null  object\n",
      " 2   company          30214 non-null  object\n",
      " 3   brand            30214 non-null  object\n",
      " 4   model            30214 non-null  object\n",
      " 5   year_of_release  30214 non-null  object\n",
      " 6   country          30214 non-null  object\n",
      " 7   fuel_type        30214 non-null  object\n",
      " 8   volume_engine    30214 non-null  object\n",
      " 9   gearbox          30214 non-null  object\n",
      " 10  gearing          30214 non-null  object\n",
      " 11  region           30214 non-null  object\n",
      " 12  quantity         30214 non-null  object\n",
      " 13  price_usd        30214 non-null  object\n",
      " 14  really_price     30214 non-null  object\n",
      " 15  segment_2013     30214 non-null  object\n",
      " 16  class_2013       30214 non-null  object\n",
      "dtypes: int64(1), object(16)\n",
      "memory usage: 4.1+ MB\n"
     ]
    }
   ],
   "source": [
    "new_data = data.dropna(subset = ['fuel_type', 'volume_engine', 'gearbox', 'gearing', 'quantity', 'year_of_release'])\n",
    "new_data.info()"
   ]
  },
  {
   "cell_type": "markdown",
   "metadata": {},
   "source": [
    "### Кодировка стран в alpha3"
   ]
  },
  {
   "cell_type": "markdown",
   "metadata": {},
   "source": [
    "Создаем датасет с кодами стран путем загрузки данных с сайта Лебедева, одновременно переименуя столбцы на английский язык для удобства"
   ]
  },
  {
   "cell_type": "code",
   "execution_count": 12,
   "metadata": {},
   "outputs": [],
   "source": [
    "countries_codes = (pd.read_html('https://www.artlebedev.ru/country-list/', encoding='utf8')\\\n",
    "                   [0][['Наименование', 'Полное наименование', 'Alpha3']]\\\n",
    " .rename(columns={'Наименование':'name', 'Полное наименование':'full_name'}))"
   ]
  },
  {
   "cell_type": "markdown",
   "metadata": {},
   "source": [
    "Проверим корректность выгруженного датасета"
   ]
  },
  {
   "cell_type": "code",
   "execution_count": 13,
   "metadata": {},
   "outputs": [
    {
     "data": {
      "text/html": [
       "<div>\n",
       "<style scoped>\n",
       "    .dataframe tbody tr th:only-of-type {\n",
       "        vertical-align: middle;\n",
       "    }\n",
       "\n",
       "    .dataframe tbody tr th {\n",
       "        vertical-align: top;\n",
       "    }\n",
       "\n",
       "    .dataframe thead th {\n",
       "        text-align: right;\n",
       "    }\n",
       "</style>\n",
       "<table border=\"1\" class=\"dataframe\">\n",
       "  <thead>\n",
       "    <tr style=\"text-align: right;\">\n",
       "      <th></th>\n",
       "      <th>name</th>\n",
       "      <th>full_name</th>\n",
       "      <th>Alpha3</th>\n",
       "    </tr>\n",
       "  </thead>\n",
       "  <tbody>\n",
       "    <tr>\n",
       "      <th>0</th>\n",
       "      <td>Абхазия</td>\n",
       "      <td>Республика Абхазия</td>\n",
       "      <td>ABH</td>\n",
       "    </tr>\n",
       "    <tr>\n",
       "      <th>1</th>\n",
       "      <td>Австралия</td>\n",
       "      <td>NaN</td>\n",
       "      <td>AUS</td>\n",
       "    </tr>\n",
       "    <tr>\n",
       "      <th>2</th>\n",
       "      <td>Австрия</td>\n",
       "      <td>Австрийская Республика</td>\n",
       "      <td>AUT</td>\n",
       "    </tr>\n",
       "    <tr>\n",
       "      <th>3</th>\n",
       "      <td>Азербайджан</td>\n",
       "      <td>Республика Азербайджан</td>\n",
       "      <td>AZE</td>\n",
       "    </tr>\n",
       "    <tr>\n",
       "      <th>4</th>\n",
       "      <td>Албания</td>\n",
       "      <td>Республика Албания</td>\n",
       "      <td>ALB</td>\n",
       "    </tr>\n",
       "  </tbody>\n",
       "</table>\n",
       "</div>"
      ],
      "text/plain": [
       "          name               full_name Alpha3\n",
       "0      Абхазия      Республика Абхазия    ABH\n",
       "1    Австралия                     NaN    AUS\n",
       "2      Австрия  Австрийская Республика    AUT\n",
       "3  Азербайджан  Республика Азербайджан    AZE\n",
       "4      Албания      Республика Албания    ALB"
      ]
     },
     "execution_count": 13,
     "metadata": {},
     "output_type": "execute_result"
    }
   ],
   "source": [
    "countries_codes.head()"
   ]
  },
  {
   "cell_type": "markdown",
   "metadata": {},
   "source": [
    "Создаем словарь для замены названий стран на коды Alpha3. Ключи - названия стран, значения - коды. "
   ]
  },
  {
   "cell_type": "code",
   "execution_count": 14,
   "metadata": {},
   "outputs": [],
   "source": [
    "countries_codes_dict = {}\n",
    "for i in range(len(countries_codes)):\n",
    "    if countries_codes.loc[i]['name'] not in countries_codes_dict:\n",
    "        countries_codes_dict[countries_codes.loc[i]['name']] = countries_codes.loc[i]['Alpha3']\n",
    "    if countries_codes.loc[i]['full_name'] not in countries_codes_dict:\n",
    "         countries_codes_dict[countries_codes.loc[i]['full_name']] = countries_codes.loc[i]['Alpha3']"
   ]
  },
  {
   "cell_type": "markdown",
   "metadata": {},
   "source": [
    "Производим замену по словарю и проверяем корректность замены"
   ]
  },
  {
   "cell_type": "code",
   "execution_count": 15,
   "metadata": {},
   "outputs": [],
   "source": [
    "new_data.country = new_data.country.apply(lambda cell: countries_codes_dict.get(cell, cell))"
   ]
  },
  {
   "cell_type": "code",
   "execution_count": 16,
   "metadata": {},
   "outputs": [
    {
     "data": {
      "text/plain": [
       "array(['DEU', 'США', 'KAZ', 'RUS', 'Белоруссия', 'TUR', 'JPN', 'Корея',\n",
       "       'VNM', 'UK', 'THA', 'UZB', 'AUT', 'NLD', 'HUN', 'SWE'],\n",
       "      dtype=object)"
      ]
     },
     "execution_count": 16,
     "metadata": {},
     "output_type": "execute_result"
    }
   ],
   "source": [
    "new_data.country.unique()"
   ]
  },
  {
   "cell_type": "markdown",
   "metadata": {},
   "source": [
    "Три страны не изменились, поэтому создадим словарь, по которому были произведены замены и закодируем оставшиеся страны."
   ]
  },
  {
   "cell_type": "code",
   "execution_count": 17,
   "metadata": {},
   "outputs": [],
   "source": [
    "codes_dict_new = countries_codes_dict\n",
    "\n",
    "codes_dict_new['Белоруссия'] = codes_dict_new.pop('Беларусь')\n",
    "codes_dict_new['США'] = codes_dict_new.pop('Соединенные Штаты')\n",
    "codes_dict_new['Корея'] = codes_dict_new.pop('Корея, Республика')"
   ]
  },
  {
   "cell_type": "markdown",
   "metadata": {},
   "source": [
    "Применим дополнительную кодировку и корректность применения."
   ]
  },
  {
   "cell_type": "code",
   "execution_count": 18,
   "metadata": {},
   "outputs": [
    {
     "data": {
      "text/plain": [
       "array(['DEU', 'USA', 'KAZ', 'RUS', 'BLR', 'TUR', 'JPN', 'KOR', 'VNM',\n",
       "       'UK', 'THA', 'UZB', 'AUT', 'NLD', 'HUN', 'SWE'], dtype=object)"
      ]
     },
     "execution_count": 18,
     "metadata": {},
     "output_type": "execute_result"
    }
   ],
   "source": [
    "new_data.country = new_data.country.apply(lambda cell: codes_dict_new.get(cell, cell))\n",
    "new_data.country.unique()"
   ]
  },
  {
   "cell_type": "markdown",
   "metadata": {},
   "source": [
    "### Кодировка типов топлива"
   ]
  },
  {
   "cell_type": "markdown",
   "metadata": {},
   "source": [
    "Закодируем тип топлива, для этого сначала посмотрим уникальные значения в этом столбце."
   ]
  },
  {
   "cell_type": "code",
   "execution_count": 19,
   "metadata": {},
   "outputs": [
    {
     "data": {
      "text/plain": [
       "array(['Бензин', 'Дизель', 'гибрид', 'Электрический', 'дизель ',\n",
       "       'Газовый'], dtype=object)"
      ]
     },
     "execution_count": 19,
     "metadata": {},
     "output_type": "execute_result"
    }
   ],
   "source": [
    "new_data['fuel_type'].unique()"
   ]
  },
  {
   "cell_type": "markdown",
   "metadata": {},
   "source": [
    "Приведем тип топлива \"Дизель\" в единый формат"
   ]
  },
  {
   "cell_type": "code",
   "execution_count": 20,
   "metadata": {},
   "outputs": [],
   "source": [
    "new_data.fuel_type[new_data.fuel_type=='дизель '] = 'Дизель'"
   ]
  },
  {
   "cell_type": "markdown",
   "metadata": {},
   "source": [
    "Напишем словарь для кодировки и применим его к данному столбцу"
   ]
  },
  {
   "cell_type": "code",
   "execution_count": 21,
   "metadata": {},
   "outputs": [],
   "source": [
    "#словарь для кодировки видов двигателя\n",
    "fuel_code = {'Бензин' : 'F',\n",
    "             'гибрид' : 'HYB',\n",
    "             'Электрический' : 'E',\n",
    "             'Дизель': 'D',\n",
    "             'Газовый' : 'H'\n",
    "}"
   ]
  },
  {
   "cell_type": "code",
   "execution_count": 22,
   "metadata": {},
   "outputs": [],
   "source": [
    "new_data['fuel_type'] = new_data['fuel_type'].map(fuel_code)"
   ]
  },
  {
   "cell_type": "markdown",
   "metadata": {},
   "source": [
    "Проверим корректность кодировки"
   ]
  },
  {
   "cell_type": "code",
   "execution_count": 23,
   "metadata": {},
   "outputs": [
    {
     "data": {
      "text/plain": [
       "array(['F', 'D', 'HYB', 'E', 'H'], dtype=object)"
      ]
     },
     "execution_count": 23,
     "metadata": {},
     "output_type": "execute_result"
    }
   ],
   "source": [
    "new_data['fuel_type'].unique()"
   ]
  },
  {
   "cell_type": "markdown",
   "metadata": {},
   "source": [
    "Изменим тип данных на категориальный"
   ]
  },
  {
   "cell_type": "code",
   "execution_count": 24,
   "metadata": {},
   "outputs": [],
   "source": [
    "new_data['fuel_type'] = new_data['fuel_type'].astype('category')"
   ]
  },
  {
   "cell_type": "markdown",
   "metadata": {},
   "source": [
    "### Удаляем неявные дубликаты в столбце 'тип привода'"
   ]
  },
  {
   "cell_type": "markdown",
   "metadata": {},
   "source": [
    "Следующим этапом приведем типы приводов к единому формату: \n",
    "\n",
    "- Передний привод - FWD \n",
    "- Задний привод - RWD \n",
    "- Полный привод - 4WD\n",
    "- Переключаемый привод - 2WD"
   ]
  },
  {
   "cell_type": "code",
   "execution_count": 25,
   "metadata": {},
   "outputs": [],
   "source": [
    "#Функция удаления неявных дубликатов в столбце Тип привода\n",
    "def encode(cell):\n",
    "    if cell in ['4WD', 'quattro', 'Полный', 'полный', 'AWD', '4 WD', '4Motion', '4WD', 'Quattro', '4x4', 'Полный ', '4х4', 'CVT']:\n",
    "        return '4WD' #полный привод\n",
    "    elif cell in ['передний', 'FWD', 'Передний', 'Передний (FF)', 'FF', 'FWD', 'передний ', '0' ]:\n",
    "        return 'FWD' #передний привод\n",
    "    elif cell in ['Задний', 'RWD', 'задний', 'FR', ' -', '-']:\n",
    "        return 'RWD' #задний привод\n",
    "    elif cell in ['4х2.2', '4х2', '2х4', '2 WD', '2WD', '4x2', 'P/TIME']:\n",
    "        return '2WD' #подключаемый привод\n",
    "\n",
    "    \n",
    "new_data['gearing'] = new_data['gearing'].apply(encode)  "
   ]
  },
  {
   "cell_type": "markdown",
   "metadata": {},
   "source": [
    "Проверим корректность применения функции"
   ]
  },
  {
   "cell_type": "code",
   "execution_count": 26,
   "metadata": {},
   "outputs": [
    {
     "data": {
      "text/plain": [
       "array(['FWD', '4WD', 'RWD', '2WD'], dtype=object)"
      ]
     },
     "execution_count": 26,
     "metadata": {},
     "output_type": "execute_result"
    }
   ],
   "source": [
    "new_data['gearing'].unique()"
   ]
  },
  {
   "cell_type": "markdown",
   "metadata": {},
   "source": [
    "Изменим тип данных на категориальный"
   ]
  },
  {
   "cell_type": "code",
   "execution_count": 27,
   "metadata": {},
   "outputs": [],
   "source": [
    "new_data['gearing'] = new_data['gearing'].astype('category')"
   ]
  },
  {
   "cell_type": "markdown",
   "metadata": {},
   "source": [
    "### Кодировка коробки передач"
   ]
  },
  {
   "cell_type": "markdown",
   "metadata": {},
   "source": [
    "Следующим этапом закодируем тип коробки передач\n",
    "* Механическая КП - МТ\n",
    "* Автоматическая КП - АТ\n",
    "* Роботизированная КП - АМТ\n",
    "* Вариатор - CVT"
   ]
  },
  {
   "cell_type": "code",
   "execution_count": 28,
   "metadata": {},
   "outputs": [],
   "source": [
    "#Функция удаления неявных дубликатов в столбце Коробка передач\n",
    "def encode_tr(cell):\n",
    "    if cell in ['S-tronic', 'S-Тronic', 'S-Тroic', 'S-troic', 'Steptronic', 'ТipТronic', 'Tiptronic', 'SТepТronic', \\\n",
    "                'Powershift S6', 'PowershiftS6', 'PowershifТS6', '7DCT', '7 DCT', '7DCТ', 'AMT','7 DSG', '7DSG', '6 DSG',\\\n",
    "                '6DSG', 'PDK', '7DSG4МoТion']:\n",
    "        return 'AMT' #робот\n",
    "    elif cell in ['Автомат', 'AT', '6 АТ', '6AT', '6АТ', '6 AT', 'АТ', '6АT', '8АТ', '5AT','5АТ', '4АТ', '8 АТ', '8AT', '4 АТ', '4AT'\\\n",
    "                  'АКПП6', 'АКПП4', '9AT', 'АКПП', 'АКПП8', '9АТ', '12AT', '7AT', '8АКПП','8-ступ АКПП', '8', 'АТ (автомат)',\\\n",
    "                  '8 AT 4Motion', '8АТ4МoТion', '6A', '6-ступАКПП', '6А', 'AT (автомат)', '6Aвтомат', '6Aатомат', 'АT', 'A/T',\\\n",
    "                  '7АT', 'AMT', '6AT/MT', '4AT']:\n",
    "        return 'AT' #автомат\n",
    "    elif cell in ['5 МТ', '5MT', '5МТ', 'MT','6MT', '6МТ', 'MT', 'МТ', 'MТ', '6MТ', 'Мех.', 'МКПП', '6 MT', '6 МТ','МКПП4', 'МКПП5',\\\n",
    "                '7АТ', '6М/Т', '6M/T', '6M/Т', '8', ' -', '-', '5MТ', '5M', '5М', '5-ступМТ', 'МТ (механика)', 'Механическая', '0']:\n",
    "        return 'MT' #змеханика\n",
    "    elif cell in ['CVT', 'CVT(вариатор)', 'CVТ',  'CVT (вариатор)', 'CVT(вариATор)', 'CVТ(вариатор)', 'CVТ(вАриАтор)', 'N']:\n",
    "        return 'CVT'\n",
    "    \n",
    "new_data['gearbox'] = new_data['gearbox'].apply(encode_tr)\n",
    "  "
   ]
  },
  {
   "cell_type": "markdown",
   "metadata": {},
   "source": [
    "Проверим корректность кодировки"
   ]
  },
  {
   "cell_type": "code",
   "execution_count": 29,
   "metadata": {},
   "outputs": [
    {
     "data": {
      "text/plain": [
       "array(['AMT', 'AT', 'MT', 'CVT'], dtype=object)"
      ]
     },
     "execution_count": 29,
     "metadata": {},
     "output_type": "execute_result"
    }
   ],
   "source": [
    "new_data['gearbox'].unique()"
   ]
  },
  {
   "cell_type": "markdown",
   "metadata": {},
   "source": [
    "Изменим тип данных на категориальный"
   ]
  },
  {
   "cell_type": "code",
   "execution_count": 30,
   "metadata": {},
   "outputs": [],
   "source": [
    "new_data['gearbox'] = new_data['gearbox'].astype('category')"
   ]
  },
  {
   "cell_type": "markdown",
   "metadata": {},
   "source": [
    "### Приведение года выпуска к единому формату"
   ]
  },
  {
   "cell_type": "code",
   "execution_count": 31,
   "metadata": {},
   "outputs": [
    {
     "data": {
      "text/plain": [
       "array(['2018', '2017', '2016', '2011', '2015', '2014', '2013', '2\\xa0018',\n",
       "       '2\\xa0017', '2\\xa0016', 2018, 2017, 2016], dtype=object)"
      ]
     },
     "execution_count": 31,
     "metadata": {},
     "output_type": "execute_result"
    }
   ],
   "source": [
    "new_data['year_of_release'].unique()"
   ]
  },
  {
   "cell_type": "markdown",
   "metadata": {},
   "source": [
    "Исправим некорректное заполнение года выпуска"
   ]
  },
  {
   "cell_type": "code",
   "execution_count": 32,
   "metadata": {},
   "outputs": [],
   "source": [
    "new_data['year_of_release'] = new_data['year_of_release']\\\n",
    "            .replace(['2\\xa0018', '2\\xa0017', '2\\xa0016'], ['2018', '2017', '2016'])"
   ]
  },
  {
   "cell_type": "markdown",
   "metadata": {},
   "source": [
    "Приведем тип данных к целочисленному типу."
   ]
  },
  {
   "cell_type": "code",
   "execution_count": 33,
   "metadata": {},
   "outputs": [],
   "source": [
    "new_data['year_of_release'] = new_data['year_of_release'].astype(int)"
   ]
  },
  {
   "cell_type": "markdown",
   "metadata": {},
   "source": [
    "Проверка исправления"
   ]
  },
  {
   "cell_type": "code",
   "execution_count": 34,
   "metadata": {},
   "outputs": [
    {
     "data": {
      "text/plain": [
       "array([2018, 2017, 2016, 2011, 2015, 2014, 2013])"
      ]
     },
     "execution_count": 34,
     "metadata": {},
     "output_type": "execute_result"
    }
   ],
   "source": [
    "new_data['year_of_release'].unique()"
   ]
  },
  {
   "cell_type": "markdown",
   "metadata": {},
   "source": [
    "### Удалим аномалии в столбце с объемом двигателя"
   ]
  },
  {
   "cell_type": "code",
   "execution_count": 35,
   "metadata": {},
   "outputs": [
    {
     "data": {
      "text/plain": [
       "array(['1.4', '2', '3', '1.5', '4.4', '6.6', '0', '1.8', '1.596', '1596',\n",
       "       '2.4', '3000', '2400', '1.7', '6.2', '1800', '1400 turbo',\n",
       "       '1,4 Turbo', '2.5', '1.6', '3.5', '2.2', '2.7', '2.8', '4.2', '5',\n",
       "       '3.9', '7.5', '11', '3.933', '12.3', '1,6 T-GDI', '3.7', '5.6',\n",
       "       '10.3', '8.7', '1600', '1.998', '1.598', '1.248', '2.359', '2359',\n",
       "       '1999', '3.8', '3800', '1.591', '1.368', '3.342', '3.47', '3470',\n",
       "       '2000', '1.999', '1.69', '1690', '1.774', '1598', '1774', '4.6',\n",
       "       '3,5', '5.7', '10.5', '4', '12', '1.2', '3.6', '6.5', '5.5', '4.5',\n",
       "       '1.25', '1.3', '0.002', '0.0016', '1998', '13', '16', '1400',\n",
       "       '2.3', '1.33', '2,4G', '2.693', '2693', '2.235', '2235', '2.0',\n",
       "       '14860', '14.8', '6.7', '1,2T', '4.88', '4.0'], dtype=object)"
      ]
     },
     "execution_count": 35,
     "metadata": {},
     "output_type": "execute_result"
    }
   ],
   "source": [
    "new_data['volume_engine'].unique()"
   ]
  },
  {
   "cell_type": "markdown",
   "metadata": {},
   "source": [
    "Напишем функцию для замены запятой на точку, удаления лишних символов и приведения к другому типу данных"
   ]
  },
  {
   "cell_type": "code",
   "execution_count": 36,
   "metadata": {},
   "outputs": [],
   "source": [
    "def clean_engine(column):\n",
    "\n",
    "    column = column.astype(str).str.replace(',', '.', regex=True)  # замена запятой на точку\n",
    "    column = column.str.replace('[a-zA-Z-]+$', '', regex=True)  # удаление буквенных символов в конце ячейки\n",
    "    column = column.astype(float)  # приведение к числовому типу данных\n",
    "    column = column.apply(lambda x: float(\"{:.1f}\".format(x))) \n",
    "    return column\n",
    "\n",
    "new_data['volume_engine'] = clean_engine(new_data['volume_engine'])"
   ]
  },
  {
   "cell_type": "markdown",
   "metadata": {},
   "source": [
    "Напишем цикл для обработки аномальных значений"
   ]
  },
  {
   "cell_type": "code",
   "execution_count": 37,
   "metadata": {},
   "outputs": [],
   "source": [
    "for index, row in new_data.iterrows():\n",
    "    if row['volume_engine'] < 1:\n",
    "        new_data.at[index, 'volume_engine'] = 10 * row['volume_engine']\n",
    "    elif row['volume_engine'] > 100 and row['volume_engine'] < 10000:\n",
    "        new_data.at[index, 'volume_engine'] =  row['volume_engine'] / 1000\n",
    "    elif row['volume_engine'] > 10000 :\n",
    "        new_data.at[index, 'volume_engine'] =  row['volume_engine'] / 1000\n",
    "    else: \n",
    "        row['volume_engine']"
   ]
  },
  {
   "cell_type": "markdown",
   "metadata": {},
   "source": [
    "Заменим нулевые значения значением 1.6, так как представленные автомобили поставляются в основном именно с таким объемом двигателя"
   ]
  },
  {
   "cell_type": "code",
   "execution_count": 38,
   "metadata": {},
   "outputs": [],
   "source": [
    "new_data.volume_engine[new_data.volume_engine == 0] = 1.6"
   ]
  },
  {
   "cell_type": "markdown",
   "metadata": {},
   "source": [
    "Округлим все значения до одного знака после запятой"
   ]
  },
  {
   "cell_type": "code",
   "execution_count": 39,
   "metadata": {},
   "outputs": [],
   "source": [
    "new_data['volume_engine'] = new_data['volume_engine'].map(lambda x: round(x, 1))"
   ]
  },
  {
   "cell_type": "markdown",
   "metadata": {},
   "source": [
    "### Удалим неявные дубликаты в столбце с названием компаний"
   ]
  },
  {
   "cell_type": "code",
   "execution_count": 40,
   "metadata": {},
   "outputs": [
    {
     "data": {
      "text/plain": [
       "array(['Mercur Auto', 'Автоцентр-Бавария', 'БИПЭК АВТО', 'Вираж',\n",
       "       'Sivi Finance Consulting', 'Eurasia Motor Premium',\n",
       "       'Daewoo Bus Kazakhstan', 'Caspian Motors', 'Каспиан Моторс',\n",
       "       'ТК Рос-Авто', 'Astana Motors', 'Hyundai Com Trans Kazakhstan ',\n",
       "       'Nissan Manufacturing RUS', 'СВС', 'Allur Auto',\n",
       "       'Jaguar Land Rover', 'Toyota Motor Kazakhstan', 'Лифан Моторс Рус',\n",
       "       'Autokapital', 'MMC RUS', 'ММС Рус', 'УзАвто-Казахстан',\n",
       "       'Renault Россия', 'Алматы АТО', 'Scania Central Asia',\n",
       "       'Subaru Kazakhstan', 'SMC', 'Scandinavian Motors',\n",
       "       'Хино Моторс Казахстан', 'Hino Motors Kazakhstan'], dtype=object)"
      ]
     },
     "execution_count": 40,
     "metadata": {},
     "output_type": "execute_result"
    }
   ],
   "source": [
    "new_data['company'].unique()"
   ]
  },
  {
   "cell_type": "code",
   "execution_count": 41,
   "metadata": {},
   "outputs": [],
   "source": [
    "new_data['company'] = new_data['company'].replace('Caspian Motors', 'Каспиан Моторс')\n",
    "new_data['company'] = new_data['company'].replace('Hino Motors Kazakhstan', 'Хино Моторс Казахстан')\n",
    "new_data['company'] = new_data['company'].replace('MMC RUS', 'ММС Рус')"
   ]
  },
  {
   "cell_type": "code",
   "execution_count": 42,
   "metadata": {},
   "outputs": [
    {
     "data": {
      "text/plain": [
       "array(['Mercur Auto', 'Автоцентр-Бавария', 'БИПЭК АВТО', 'Вираж',\n",
       "       'Sivi Finance Consulting', 'Eurasia Motor Premium',\n",
       "       'Daewoo Bus Kazakhstan', 'Каспиан Моторс', 'ТК Рос-Авто',\n",
       "       'Astana Motors', 'Hyundai Com Trans Kazakhstan ',\n",
       "       'Nissan Manufacturing RUS', 'СВС', 'Allur Auto',\n",
       "       'Jaguar Land Rover', 'Toyota Motor Kazakhstan', 'Лифан Моторс Рус',\n",
       "       'Autokapital', 'ММС Рус', 'УзАвто-Казахстан', 'Renault Россия',\n",
       "       'Алматы АТО', 'Scania Central Asia', 'Subaru Kazakhstan', 'SMC',\n",
       "       'Scandinavian Motors', 'Хино Моторс Казахстан'], dtype=object)"
      ]
     },
     "execution_count": 42,
     "metadata": {},
     "output_type": "execute_result"
    }
   ],
   "source": [
    "new_data['company'].unique()"
   ]
  },
  {
   "cell_type": "markdown",
   "metadata": {},
   "source": [
    "### Предобработка столбцов, с данными о ценах"
   ]
  },
  {
   "cell_type": "markdown",
   "metadata": {},
   "source": [
    "Приведем столбцы с ценами к целочисленному типу"
   ]
  },
  {
   "cell_type": "code",
   "execution_count": 43,
   "metadata": {},
   "outputs": [],
   "source": [
    "# Удаляем десятичную часть\n",
    "new_data['price_usd'] = new_data['price_usd'].astype(str).str.split('.').str[0]\n",
    "# Преобразуем столбец в тип данных int\n",
    "new_data['price_usd'] = new_data['price_usd'].astype(int)"
   ]
  },
  {
   "cell_type": "code",
   "execution_count": 44,
   "metadata": {},
   "outputs": [],
   "source": [
    "# Удаляем десятичную часть\n",
    "new_data['really_price'] = new_data['really_price'].astype(str).str.split('.').str[0]\n",
    "# Преобразуем столбец в тип данных int\n",
    "new_data['really_price'] = new_data['really_price'].astype(int)"
   ]
  },
  {
   "cell_type": "markdown",
   "metadata": {},
   "source": [
    "Посмотрим аномалии в данных столбцах, построив ящик с усами"
   ]
  },
  {
   "cell_type": "code",
   "execution_count": 45,
   "metadata": {},
   "outputs": [
    {
     "data": {
      "image/png": "[encoded data removed]",
      "text/plain": [
       "<Figure size 432x288 with 1 Axes>"
      ]
     },
     "metadata": {
      "needs_background": "light"
     },
     "output_type": "display_data"
    }
   ],
   "source": [
    "new_data.boxplot(column=['price_usd', 'really_price']);"
   ]
  },
  {
   "cell_type": "markdown",
   "metadata": {},
   "source": [
    "Видно, что в столбце с реальной ценой есть выбросы"
   ]
  },
  {
   "cell_type": "code",
   "execution_count": 46,
   "metadata": {},
   "outputs": [
    {
     "data": {
      "text/html": [
       "<div>\n",
       "<style scoped>\n",
       "    .dataframe tbody tr th:only-of-type {\n",
       "        vertical-align: middle;\n",
       "    }\n",
       "\n",
       "    .dataframe tbody tr th {\n",
       "        vertical-align: top;\n",
       "    }\n",
       "\n",
       "    .dataframe thead th {\n",
       "        text-align: right;\n",
       "    }\n",
       "</style>\n",
       "<table border=\"1\" class=\"dataframe\">\n",
       "  <thead>\n",
       "    <tr style=\"text-align: right;\">\n",
       "      <th></th>\n",
       "      <th>year</th>\n",
       "      <th>month</th>\n",
       "      <th>company</th>\n",
       "      <th>brand</th>\n",
       "      <th>model</th>\n",
       "      <th>year_of_release</th>\n",
       "      <th>country</th>\n",
       "      <th>fuel_type</th>\n",
       "      <th>volume_engine</th>\n",
       "      <th>gearbox</th>\n",
       "      <th>gearing</th>\n",
       "      <th>region</th>\n",
       "      <th>quantity</th>\n",
       "      <th>price_usd</th>\n",
       "      <th>really_price</th>\n",
       "      <th>segment_2013</th>\n",
       "      <th>class_2013</th>\n",
       "    </tr>\n",
       "  </thead>\n",
       "  <tbody>\n",
       "    <tr>\n",
       "      <th>962</th>\n",
       "      <td>2019</td>\n",
       "      <td>Май</td>\n",
       "      <td>Daewoo Bus Kazakhstan</td>\n",
       "      <td>Daewoo</td>\n",
       "      <td>BS 106 A</td>\n",
       "      <td>2018</td>\n",
       "      <td>KAZ</td>\n",
       "      <td>D</td>\n",
       "      <td>2.5</td>\n",
       "      <td>MT</td>\n",
       "      <td>2WD</td>\n",
       "      <td>Атырау</td>\n",
       "      <td>20.0</td>\n",
       "      <td>99046</td>\n",
       "      <td>1980922</td>\n",
       "      <td>Коммерческие автомобили</td>\n",
       "      <td>Большие автобусы</td>\n",
       "    </tr>\n",
       "    <tr>\n",
       "      <th>32215</th>\n",
       "      <td>2019</td>\n",
       "      <td>Сентябрь</td>\n",
       "      <td>Daewoo Bus Kazakhstan</td>\n",
       "      <td>Daewoo</td>\n",
       "      <td>ВС 211 МА</td>\n",
       "      <td>2018</td>\n",
       "      <td>KAZ</td>\n",
       "      <td>D</td>\n",
       "      <td>2.5</td>\n",
       "      <td>MT</td>\n",
       "      <td>2WD</td>\n",
       "      <td>Атырау</td>\n",
       "      <td>16.0</td>\n",
       "      <td>100879</td>\n",
       "      <td>1614072</td>\n",
       "      <td>Коммерческие автомобили</td>\n",
       "      <td>Большие автобусы</td>\n",
       "    </tr>\n",
       "  </tbody>\n",
       "</table>\n",
       "</div>"
      ],
      "text/plain": [
       "       year     month                company   brand      model  \\\n",
       "962    2019       Май  Daewoo Bus Kazakhstan  Daewoo   BS 106 A   \n",
       "32215  2019  Сентябрь  Daewoo Bus Kazakhstan  Daewoo  ВС 211 МА   \n",
       "\n",
       "       year_of_release country fuel_type  volume_engine gearbox gearing  \\\n",
       "962               2018     KAZ         D            2.5      MT     2WD   \n",
       "32215             2018     KAZ         D            2.5      MT     2WD   \n",
       "\n",
       "       region quantity  price_usd  really_price              segment_2013  \\\n",
       "962    Атырау     20.0      99046       1980922  Коммерческие автомобили    \n",
       "32215  Атырау     16.0     100879       1614072  Коммерческие автомобили    \n",
       "\n",
       "              class_2013  \n",
       "962    Большие автобусы   \n",
       "32215  Большие автобусы   "
      ]
     },
     "execution_count": 46,
     "metadata": {},
     "output_type": "execute_result"
    }
   ],
   "source": [
    "new_data.query('really_price > 1500000')"
   ]
  },
  {
   "cell_type": "markdown",
   "metadata": {},
   "source": [
    "Компания приобрела несколько автобусов, в таком случае данные кажутся объективными"
   ]
  },
  {
   "cell_type": "markdown",
   "metadata": {},
   "source": [
    "### Преобразование типов оставшихся столбцов"
   ]
  },
  {
   "cell_type": "markdown",
   "metadata": {},
   "source": [
    "##### Количество"
   ]
  },
  {
   "cell_type": "code",
   "execution_count": 47,
   "metadata": {},
   "outputs": [],
   "source": [
    "# Удаляем десятичную часть\n",
    "new_data['quantity'] = new_data['quantity'].astype(str).str.split('.').str[0]\n",
    "# Преобразуем столбец в тип данных int\n",
    "new_data['quantity'] = new_data['quantity'].astype(int)"
   ]
  },
  {
   "cell_type": "markdown",
   "metadata": {},
   "source": [
    "##### Сегменты и категории"
   ]
  },
  {
   "cell_type": "code",
   "execution_count": 48,
   "metadata": {},
   "outputs": [],
   "source": [
    "new_data['segment_2013'] = new_data['segment_2013'].astype('category')\n",
    "new_data['class_2013'] = new_data['class_2013'].astype('category')"
   ]
  },
  {
   "cell_type": "markdown",
   "metadata": {},
   "source": [
    "### Создадим единый столбец с данными о дате продажи автомобиля"
   ]
  },
  {
   "cell_type": "code",
   "execution_count": 49,
   "metadata": {},
   "outputs": [
    {
     "data": {
      "text/plain": [
       "array(['Май', 'Июнь', 'Июль', 'Январь', 'Февраль', 'Март', 'Апрель',\n",
       "       'Август', 'Сентябрь'], dtype=object)"
      ]
     },
     "execution_count": 49,
     "metadata": {},
     "output_type": "execute_result"
    }
   ],
   "source": [
    "new_data['month'].unique()"
   ]
  },
  {
   "cell_type": "code",
   "execution_count": 50,
   "metadata": {},
   "outputs": [],
   "source": [
    "monthsnum = {'Январь' : 1,\n",
    "             'Февраль' : 2,\n",
    "             'Март' : 3,\n",
    "             'Апрель' : 4,\n",
    "             'Май' : 5,\n",
    "             'Июнь' : 6,       \n",
    "             'Июль' : 7,             \n",
    "             'Август' : 8,             \n",
    "             'Сентябрь' : 9,\n",
    "             'Октябрь' : 10,\n",
    "             'Ноябрь' : 11,\n",
    "             'Декабрь' : 12    \n",
    "}"
   ]
  },
  {
   "cell_type": "code",
   "execution_count": 51,
   "metadata": {},
   "outputs": [],
   "source": [
    "new_data['month'] = new_data['month'].map(monthsnum)"
   ]
  },
  {
   "cell_type": "code",
   "execution_count": 52,
   "metadata": {},
   "outputs": [],
   "source": [
    "new_data['date'] = pd.to_datetime(new_data[['year', 'month']].assign(day = 28))"
   ]
  },
  {
   "cell_type": "markdown",
   "metadata": {},
   "source": [
    "Удалим столбцы с годом и месяцем"
   ]
  },
  {
   "cell_type": "code",
   "execution_count": 53,
   "metadata": {},
   "outputs": [],
   "source": [
    "new_data.drop(['year', 'month'], axis= 1, inplace=True)"
   ]
  },
  {
   "cell_type": "markdown",
   "metadata": {},
   "source": [
    "### Проверка предобработки"
   ]
  },
  {
   "cell_type": "code",
   "execution_count": 54,
   "metadata": {},
   "outputs": [
    {
     "data": {
      "text/html": [
       "<div>\n",
       "<style scoped>\n",
       "    .dataframe tbody tr th:only-of-type {\n",
       "        vertical-align: middle;\n",
       "    }\n",
       "\n",
       "    .dataframe tbody tr th {\n",
       "        vertical-align: top;\n",
       "    }\n",
       "\n",
       "    .dataframe thead th {\n",
       "        text-align: right;\n",
       "    }\n",
       "</style>\n",
       "<table border=\"1\" class=\"dataframe\">\n",
       "  <thead>\n",
       "    <tr style=\"text-align: right;\">\n",
       "      <th></th>\n",
       "      <th>company</th>\n",
       "      <th>brand</th>\n",
       "      <th>model</th>\n",
       "      <th>year_of_release</th>\n",
       "      <th>country</th>\n",
       "      <th>fuel_type</th>\n",
       "      <th>volume_engine</th>\n",
       "      <th>gearbox</th>\n",
       "      <th>gearing</th>\n",
       "      <th>region</th>\n",
       "      <th>quantity</th>\n",
       "      <th>price_usd</th>\n",
       "      <th>really_price</th>\n",
       "      <th>segment_2013</th>\n",
       "      <th>class_2013</th>\n",
       "      <th>date</th>\n",
       "    </tr>\n",
       "  </thead>\n",
       "  <tbody>\n",
       "    <tr>\n",
       "      <th>20623</th>\n",
       "      <td>Subaru Kazakhstan</td>\n",
       "      <td>Subaru</td>\n",
       "      <td>Forester</td>\n",
       "      <td>2017</td>\n",
       "      <td>JPN</td>\n",
       "      <td>F</td>\n",
       "      <td>2.0</td>\n",
       "      <td>CVT</td>\n",
       "      <td>4WD</td>\n",
       "      <td>Астана</td>\n",
       "      <td>1</td>\n",
       "      <td>31343</td>\n",
       "      <td>31343</td>\n",
       "      <td>Внедорожники</td>\n",
       "      <td>Среднеразмерные SUV</td>\n",
       "      <td>2019-07-28</td>\n",
       "    </tr>\n",
       "    <tr>\n",
       "      <th>31516</th>\n",
       "      <td>Mercur Auto</td>\n",
       "      <td>Volkswagen</td>\n",
       "      <td>Polo</td>\n",
       "      <td>2017</td>\n",
       "      <td>RUS</td>\n",
       "      <td>F</td>\n",
       "      <td>1.6</td>\n",
       "      <td>AT</td>\n",
       "      <td>FWD</td>\n",
       "      <td>Астана</td>\n",
       "      <td>1</td>\n",
       "      <td>17218</td>\n",
       "      <td>17218</td>\n",
       "      <td>Легковые автомобили</td>\n",
       "      <td>B класс</td>\n",
       "      <td>2019-05-28</td>\n",
       "    </tr>\n",
       "    <tr>\n",
       "      <th>29267</th>\n",
       "      <td>Toyota Motor Kazakhstan</td>\n",
       "      <td>Toyota</td>\n",
       "      <td>RAV4</td>\n",
       "      <td>2017</td>\n",
       "      <td>JPN</td>\n",
       "      <td>F</td>\n",
       "      <td>2.5</td>\n",
       "      <td>AT</td>\n",
       "      <td>4WD</td>\n",
       "      <td>Астана</td>\n",
       "      <td>1</td>\n",
       "      <td>37200</td>\n",
       "      <td>37200</td>\n",
       "      <td>Внедорожники</td>\n",
       "      <td>Среднеразмерные SUV</td>\n",
       "      <td>2019-04-28</td>\n",
       "    </tr>\n",
       "    <tr>\n",
       "      <th>5848</th>\n",
       "      <td>Astana Motors</td>\n",
       "      <td>Hyundai</td>\n",
       "      <td>Elantra</td>\n",
       "      <td>2018</td>\n",
       "      <td>KAZ</td>\n",
       "      <td>F</td>\n",
       "      <td>1.6</td>\n",
       "      <td>AT</td>\n",
       "      <td>2WD</td>\n",
       "      <td>Астана</td>\n",
       "      <td>1</td>\n",
       "      <td>22022</td>\n",
       "      <td>22022</td>\n",
       "      <td>Легковые автомобили</td>\n",
       "      <td>C класс</td>\n",
       "      <td>2019-02-28</td>\n",
       "    </tr>\n",
       "    <tr>\n",
       "      <th>26803</th>\n",
       "      <td>Toyota Motor Kazakhstan</td>\n",
       "      <td>Toyota</td>\n",
       "      <td>LC Prado</td>\n",
       "      <td>2017</td>\n",
       "      <td>JPN</td>\n",
       "      <td>F</td>\n",
       "      <td>2.7</td>\n",
       "      <td>AT</td>\n",
       "      <td>4WD</td>\n",
       "      <td>Алматы</td>\n",
       "      <td>1</td>\n",
       "      <td>59636</td>\n",
       "      <td>59636</td>\n",
       "      <td>Внедорожники</td>\n",
       "      <td>Стандартные SUV</td>\n",
       "      <td>2019-02-28</td>\n",
       "    </tr>\n",
       "    <tr>\n",
       "      <th>7870</th>\n",
       "      <td>Astana Motors</td>\n",
       "      <td>Hyundai</td>\n",
       "      <td>Tucson</td>\n",
       "      <td>2018</td>\n",
       "      <td>KAZ</td>\n",
       "      <td>F</td>\n",
       "      <td>2.0</td>\n",
       "      <td>AT</td>\n",
       "      <td>4WD</td>\n",
       "      <td>Усть-Каменогорск</td>\n",
       "      <td>1</td>\n",
       "      <td>29530</td>\n",
       "      <td>29530</td>\n",
       "      <td>Внедорожники</td>\n",
       "      <td>Компактные SUV</td>\n",
       "      <td>2019-05-28</td>\n",
       "    </tr>\n",
       "    <tr>\n",
       "      <th>7468</th>\n",
       "      <td>Astana Motors</td>\n",
       "      <td>Hyundai</td>\n",
       "      <td>Tucson</td>\n",
       "      <td>2018</td>\n",
       "      <td>KAZ</td>\n",
       "      <td>F</td>\n",
       "      <td>2.0</td>\n",
       "      <td>AT</td>\n",
       "      <td>4WD</td>\n",
       "      <td>Астана</td>\n",
       "      <td>1</td>\n",
       "      <td>31462</td>\n",
       "      <td>31462</td>\n",
       "      <td>Внедорожники</td>\n",
       "      <td>Компактные SUV</td>\n",
       "      <td>2019-03-28</td>\n",
       "    </tr>\n",
       "  </tbody>\n",
       "</table>\n",
       "</div>"
      ],
      "text/plain": [
       "                       company       brand     model  year_of_release country  \\\n",
       "20623        Subaru Kazakhstan      Subaru  Forester             2017     JPN   \n",
       "31516              Mercur Auto  Volkswagen      Polo             2017     RUS   \n",
       "29267  Toyota Motor Kazakhstan      Toyota      RAV4             2017     JPN   \n",
       "5848             Astana Motors     Hyundai   Elantra             2018     KAZ   \n",
       "26803  Toyota Motor Kazakhstan      Toyota  LC Prado             2017     JPN   \n",
       "7870             Astana Motors     Hyundai    Tucson             2018     KAZ   \n",
       "7468             Astana Motors     Hyundai    Tucson             2018     KAZ   \n",
       "\n",
       "      fuel_type  volume_engine gearbox gearing            region  quantity  \\\n",
       "20623         F            2.0     CVT     4WD            Астана         1   \n",
       "31516         F            1.6      AT     FWD            Астана         1   \n",
       "29267         F            2.5      AT     4WD            Астана         1   \n",
       "5848          F            1.6      AT     2WD            Астана         1   \n",
       "26803         F            2.7      AT     4WD            Алматы         1   \n",
       "7870          F            2.0      AT     4WD  Усть-Каменогорск         1   \n",
       "7468          F            2.0      AT     4WD            Астана         1   \n",
       "\n",
       "       price_usd  really_price          segment_2013            class_2013  \\\n",
       "20623      31343         31343         Внедорожники   Среднеразмерные SUV    \n",
       "31516      17218         17218  Легковые автомобили               B класс    \n",
       "29267      37200         37200         Внедорожники   Среднеразмерные SUV    \n",
       "5848       22022         22022  Легковые автомобили               C класс    \n",
       "26803      59636         59636         Внедорожники       Стандартные SUV    \n",
       "7870       29530         29530         Внедорожники        Компактные SUV    \n",
       "7468       31462         31462         Внедорожники        Компактные SUV    \n",
       "\n",
       "            date  \n",
       "20623 2019-07-28  \n",
       "31516 2019-05-28  \n",
       "29267 2019-04-28  \n",
       "5848  2019-02-28  \n",
       "26803 2019-02-28  \n",
       "7870  2019-05-28  \n",
       "7468  2019-03-28  "
      ]
     },
     "execution_count": 54,
     "metadata": {},
     "output_type": "execute_result"
    }
   ],
   "source": [
    "random_rows = new_data.sample(n=7)\n",
    "random_rows"
   ]
  },
  {
   "cell_type": "code",
   "execution_count": 55,
   "metadata": {},
   "outputs": [
    {
     "name": "stdout",
     "output_type": "stream",
     "text": [
      "<class 'pandas.core.frame.DataFrame'>\n",
      "Int64Index: 30214 entries, 1 to 32853\n",
      "Data columns (total 16 columns):\n",
      " #   Column           Non-Null Count  Dtype         \n",
      "---  ------           --------------  -----         \n",
      " 0   company          30214 non-null  object        \n",
      " 1   brand            30214 non-null  object        \n",
      " 2   model            30214 non-null  object        \n",
      " 3   year_of_release  30214 non-null  int32         \n",
      " 4   country          30214 non-null  object        \n",
      " 5   fuel_type        30214 non-null  category      \n",
      " 6   volume_engine    30214 non-null  float64       \n",
      " 7   gearbox          30214 non-null  category      \n",
      " 8   gearing          30214 non-null  category      \n",
      " 9   region           30214 non-null  object        \n",
      " 10  quantity         30214 non-null  int32         \n",
      " 11  price_usd        30214 non-null  int32         \n",
      " 12  really_price     30214 non-null  int32         \n",
      " 13  segment_2013     30214 non-null  category      \n",
      " 14  class_2013       30214 non-null  category      \n",
      " 15  date             30214 non-null  datetime64[ns]\n",
      "dtypes: category(5), datetime64[ns](1), float64(1), int32(4), object(5)\n",
      "memory usage: 3.7+ MB\n"
     ]
    }
   ],
   "source": [
    "new_data.info()"
   ]
  },
  {
   "cell_type": "markdown",
   "metadata": {},
   "source": [
    "Проверим процент потерянных данных"
   ]
  },
  {
   "cell_type": "code",
   "execution_count": 56,
   "metadata": {},
   "outputs": [
    {
     "data": {
      "text/plain": [
       "8.04"
      ]
     },
     "execution_count": 56,
     "metadata": {},
     "output_type": "execute_result"
    }
   ],
   "source": [
    "lose = (data['company'].count() - new_data['company'].count())*100/data['company'].count()\n",
    "round(lose, 2)"
   ]
  },
  {
   "cell_type": "markdown",
   "metadata": {},
   "source": [
    "###### Вывод:  \n",
    "Была выполнена предобработка датасета, в ходе которой были удалены столбцы, не влиящие на анализ, приведены названия столбцов к английским названиям, удалены пропуски. Также для удобства были закодированы страны, тип топлива, коробка передач, тип привода, создан дополнительный столбец с датой покупки, типы данных приведены к необходимым. Данные с объемом двигателя были унифицированы. Также были удалены неявные дубликаты в столбцах с названием компании и годом выпуска. Потери при удалении пропусков составили 8%, что является приемлимым."
   ]
  },
  {
   "cell_type": "markdown",
   "metadata": {},
   "source": [
    "# Исследовательский анализ данных"
   ]
  },
  {
   "cell_type": "markdown",
   "metadata": {},
   "source": [
    "### Анализ рынка"
   ]
  },
  {
   "cell_type": "markdown",
   "metadata": {},
   "source": [
    "#### Топовые марки на рынке Казахстана: в денежном и натуральном выражении (5-10 марок)"
   ]
  },
  {
   "cell_type": "code",
   "execution_count": 57,
   "metadata": {},
   "outputs": [
    {
     "data": {
      "text/html": [
       "<div>\n",
       "<style scoped>\n",
       "    .dataframe tbody tr th:only-of-type {\n",
       "        vertical-align: middle;\n",
       "    }\n",
       "\n",
       "    .dataframe tbody tr th {\n",
       "        vertical-align: top;\n",
       "    }\n",
       "\n",
       "    .dataframe thead th {\n",
       "        text-align: right;\n",
       "    }\n",
       "</style>\n",
       "<table border=\"1\" class=\"dataframe\">\n",
       "  <thead>\n",
       "    <tr style=\"text-align: right;\">\n",
       "      <th></th>\n",
       "      <th>Количество проданных машин</th>\n",
       "    </tr>\n",
       "    <tr>\n",
       "      <th>brand</th>\n",
       "      <th></th>\n",
       "    </tr>\n",
       "  </thead>\n",
       "  <tbody>\n",
       "    <tr>\n",
       "      <th>Lada</th>\n",
       "      <td>9638</td>\n",
       "    </tr>\n",
       "    <tr>\n",
       "      <th>Toyota</th>\n",
       "      <td>9374</td>\n",
       "    </tr>\n",
       "    <tr>\n",
       "      <th>Hyundai</th>\n",
       "      <td>5703</td>\n",
       "    </tr>\n",
       "    <tr>\n",
       "      <th>GAZ</th>\n",
       "      <td>2111</td>\n",
       "    </tr>\n",
       "    <tr>\n",
       "      <th>Kia</th>\n",
       "      <td>1815</td>\n",
       "    </tr>\n",
       "  </tbody>\n",
       "</table>\n",
       "</div>"
      ],
      "text/plain": [
       "         Количество проданных машин\n",
       "brand                              \n",
       "Lada                           9638\n",
       "Toyota                         9374\n",
       "Hyundai                        5703\n",
       "GAZ                            2111\n",
       "Kia                            1815"
      ]
     },
     "execution_count": 57,
     "metadata": {},
     "output_type": "execute_result"
    }
   ],
   "source": [
    "brand_top_5 = new_data.pivot_table(index = 'brand', values = 'quantity', aggfunc = 'sum')\n",
    "brand_top_5.columns = ['Количество проданных машин']\n",
    "brand_top_5 = brand_top_5.sort_values(by = 'Количество проданных машин', ascending = False)\n",
    "brand_top_5 = brand_top_5.head()\n",
    "brand_top_5"
   ]
  },
  {
   "cell_type": "code",
   "execution_count": 58,
   "metadata": {},
   "outputs": [
    {
     "data": {
      "image/png": "[encoded data removed]",
      "text/plain": [
       "<Figure size 576x576 with 1 Axes>"
      ]
     },
     "metadata": {
      "needs_background": "light"
     },
     "output_type": "display_data"
    }
   ],
   "source": [
    "plt.figure(figsize=(8,8))\n",
    "colors = sns.color_palette('tab20')\n",
    "sns.barplot(x = brand_top_5.index, y = 'Количество проданных машин', data=brand_top_5, palette=colors)\n",
    "plt.xticks(rotation=45)\n",
    "plt.title('Количество проданных автомобилей')\n",
    "plt.xlabel('Навзание бренда')\n",
    "plt.ylabel('Количество авто')\n",
    "plt.show()"
   ]
  },
  {
   "cell_type": "code",
   "execution_count": 59,
   "metadata": {},
   "outputs": [
    {
     "data": {
      "text/html": [
       "<div>\n",
       "<style scoped>\n",
       "    .dataframe tbody tr th:only-of-type {\n",
       "        vertical-align: middle;\n",
       "    }\n",
       "\n",
       "    .dataframe tbody tr th {\n",
       "        vertical-align: top;\n",
       "    }\n",
       "\n",
       "    .dataframe thead th {\n",
       "        text-align: right;\n",
       "    }\n",
       "</style>\n",
       "<table border=\"1\" class=\"dataframe\">\n",
       "  <thead>\n",
       "    <tr style=\"text-align: right;\">\n",
       "      <th></th>\n",
       "      <th>Сумма</th>\n",
       "    </tr>\n",
       "    <tr>\n",
       "      <th>brand</th>\n",
       "      <th></th>\n",
       "    </tr>\n",
       "  </thead>\n",
       "  <tbody>\n",
       "    <tr>\n",
       "      <th>Toyota</th>\n",
       "      <td>383870499</td>\n",
       "    </tr>\n",
       "    <tr>\n",
       "      <th>Hyundai</th>\n",
       "      <td>124844281</td>\n",
       "    </tr>\n",
       "    <tr>\n",
       "      <th>Lada</th>\n",
       "      <td>93870615</td>\n",
       "    </tr>\n",
       "    <tr>\n",
       "      <th>Lexus</th>\n",
       "      <td>83284417</td>\n",
       "    </tr>\n",
       "    <tr>\n",
       "      <th>GAZ</th>\n",
       "      <td>40419557</td>\n",
       "    </tr>\n",
       "  </tbody>\n",
       "</table>\n",
       "</div>"
      ],
      "text/plain": [
       "             Сумма\n",
       "brand             \n",
       "Toyota   383870499\n",
       "Hyundai  124844281\n",
       "Lada      93870615\n",
       "Lexus     83284417\n",
       "GAZ       40419557"
      ]
     },
     "execution_count": 59,
     "metadata": {},
     "output_type": "execute_result"
    }
   ],
   "source": [
    "brand_top_5_usd = new_data.pivot_table(index = 'brand', values = 'really_price', aggfunc = 'sum')\n",
    "brand_top_5_usd.columns = ['Сумма']\n",
    "brand_top_5_usd = brand_top_5_usd.sort_values(by = 'Сумма', ascending = False)\n",
    "brand_top_5_usd = brand_top_5_usd.head(5)\n",
    "brand_top_5_usd"
   ]
  },
  {
   "cell_type": "code",
   "execution_count": 60,
   "metadata": {},
   "outputs": [
    {
     "data": {
      "image/png": "[encoded data removed]",
      "text/plain": [
       "<Figure size 576x576 with 1 Axes>"
      ]
     },
     "metadata": {
      "needs_background": "light"
     },
     "output_type": "display_data"
    }
   ],
   "source": [
    "plt.figure(figsize=(8,8))\n",
    "colors = sns.color_palette('tab20')\n",
    "sns.barplot(x = brand_top_5_usd.index, y = 'Сумма', data=brand_top_5_usd, palette=colors)\n",
    "plt.xticks(rotation=45)\n",
    "plt.title('Сумма')\n",
    "plt.xlabel('Название бренда')\n",
    "plt.ylabel('USD')\n",
    "plt.show()"
   ]
  },
  {
   "cell_type": "markdown",
   "metadata": {},
   "source": [
    "Лидером на рынке Казахстана в натуральном выражении являются автомобили Lada, в денежном выражении - автомобили марки Toyota. Также в топ-5 марок входят Hyundai, GAZ, Lada. Lexus в топе в денежном выражении, а Kia в натуральном выражении."
   ]
  },
  {
   "cell_type": "markdown",
   "metadata": {},
   "source": [
    "#### Продажи на рынке Казахстана всех марок в денежном и натуральном выражении"
   ]
  },
  {
   "cell_type": "code",
   "execution_count": 61,
   "metadata": {},
   "outputs": [
    {
     "data": {
      "text/plain": [
       "40738"
      ]
     },
     "execution_count": 61,
     "metadata": {},
     "output_type": "execute_result"
    }
   ],
   "source": [
    "total_count = new_data['quantity'].sum()\n",
    "total_count"
   ]
  },
  {
   "cell_type": "code",
   "execution_count": 62,
   "metadata": {},
   "outputs": [
    {
     "data": {
      "text/plain": [
       "1025943485"
      ]
     },
     "execution_count": 62,
     "metadata": {},
     "output_type": "execute_result"
    }
   ],
   "source": [
    "total_sum = new_data['really_price'].sum()\n",
    "total_sum"
   ]
  },
  {
   "cell_type": "markdown",
   "metadata": {},
   "source": [
    "За 2019 год в Казахстане было продано 40738 автомобилей на сумму 1025943485 $"
   ]
  },
  {
   "cell_type": "markdown",
   "metadata": {},
   "source": [
    "#### Динамика продаж в целом по рынку: в денежном и натуральном выражении (помесячно)"
   ]
  },
  {
   "cell_type": "code",
   "execution_count": 63,
   "metadata": {},
   "outputs": [],
   "source": [
    "qty_gr = new_data.groupby('date')['quantity'].agg('sum').reset_index()"
   ]
  },
  {
   "cell_type": "code",
   "execution_count": 64,
   "metadata": {},
   "outputs": [
    {
     "data": {
      "text/plain": [
       "<Figure size 720x2880 with 0 Axes>"
      ]
     },
     "metadata": {},
     "output_type": "display_data"
    },
    {
     "data": {
      "image/png": "[encoded data removed]",
      "text/plain": [
       "<Figure size 432x288 with 1 Axes>"
      ]
     },
     "metadata": {
      "needs_background": "light"
     },
     "output_type": "display_data"
    }
   ],
   "source": [
    "plt.figure(figsize=(10,40))\n",
    "qty_gr.plot(x = 'date', y = 'quantity', grid = True)\n",
    "plt.xticks(rotation=45)\n",
    "plt.title('Динамика продаж в натуральном выражении')\n",
    "plt.xlabel('Дата')\n",
    "plt.ylabel('Количество автомобилей')\n",
    "plt.show()"
   ]
  },
  {
   "cell_type": "code",
   "execution_count": 65,
   "metadata": {},
   "outputs": [],
   "source": [
    "price_gr = new_data.groupby('date')['really_price'].agg('sum').reset_index()"
   ]
  },
  {
   "cell_type": "code",
   "execution_count": 66,
   "metadata": {},
   "outputs": [
    {
     "data": {
      "text/plain": [
       "<Figure size 720x2880 with 0 Axes>"
      ]
     },
     "metadata": {},
     "output_type": "display_data"
    },
    {
     "data": {
      "image/png": "[encoded data removed]",
      "text/plain": [
       "<Figure size 432x288 with 1 Axes>"
      ]
     },
     "metadata": {
      "needs_background": "light"
     },
     "output_type": "display_data"
    }
   ],
   "source": [
    "plt.figure(figsize=(10,40))\n",
    "price_gr.plot(x = 'date', y = 'really_price', grid = True)\n",
    "plt.xticks(rotation=45)\n",
    "plt.title('Динамика продаж в денежном эквиваленте')\n",
    "plt.xlabel('Дата')\n",
    "plt.ylabel('Cумма продаж')\n",
    "plt.show()"
   ]
  },
  {
   "cell_type": "markdown",
   "metadata": {},
   "source": [
    "Динамика по рынку в денежном и натуральном выражении положительная. Наибольшее количество автомобилей приобретаются летом."
   ]
  },
  {
   "cell_type": "markdown",
   "metadata": {},
   "source": [
    "### Динамика продаж по категориям (помесячно): тип топлива, класс, сегмент"
   ]
  },
  {
   "cell_type": "code",
   "execution_count": 67,
   "metadata": {},
   "outputs": [],
   "source": [
    "#функция построения графиков динамики продаж\n",
    "def func(cell):\n",
    "    din_categ = new_data.pivot_table(index = ['date', cell], values = ['quantity'], aggfunc = 'sum').reset_index()\n",
    "    plt.figure(figsize=(15,6))\n",
    "    sns.lineplot(data=din_categ, x=\"date\", y=\"quantity\", hue=cell)\n",
    "    plt.xticks(rotation=45)\n",
    "    plt.legend(bbox_to_anchor=(1.1, 1.05))\n",
    "    plt.title('Динамика продаж')\n",
    "    plt.xlabel('Дата')\n",
    "    plt.ylabel('Количество проданных автомобилей')\n",
    "    plt.show()\n"
   ]
  },
  {
   "cell_type": "markdown",
   "metadata": {},
   "source": [
    "###### Тип топлива"
   ]
  },
  {
   "cell_type": "code",
   "execution_count": 68,
   "metadata": {},
   "outputs": [
    {
     "data": {
      "image/png": "[encoded data removed]",
      "text/plain": [
       "<Figure size 1080x432 with 1 Axes>"
      ]
     },
     "metadata": {
      "needs_background": "light"
     },
     "output_type": "display_data"
    }
   ],
   "source": [
    "func('fuel_type')   "
   ]
  },
  {
   "cell_type": "markdown",
   "metadata": {},
   "source": [
    "Самыми популярными являются автомобили на бензиновом топливе. На графике также видно увеличение количества проданных автомобилей в июне, июле и сентябре. Остальные виды топлива распределены равномерно по году."
   ]
  },
  {
   "cell_type": "markdown",
   "metadata": {},
   "source": [
    "###### Класс"
   ]
  },
  {
   "cell_type": "code",
   "execution_count": 69,
   "metadata": {},
   "outputs": [
    {
     "data": {
      "image/png": "[encoded data removed]",
      "text/plain": [
       "<Figure size 1080x432 with 1 Axes>"
      ]
     },
     "metadata": {
      "needs_background": "light"
     },
     "output_type": "display_data"
    }
   ],
   "source": [
    "func('class_2013')   "
   ]
  },
  {
   "cell_type": "markdown",
   "metadata": {},
   "source": [
    "На графике видны следующие закономерности: Самыми популярными являются автомобили B класса, однако начиная с июля наблюдается снижение количества проданных авто. С мая по июль возрастает спрос на автомобили E класса. C августа увеличивается количество продаж автомобилей класса 'Компактные SUV'."
   ]
  },
  {
   "cell_type": "markdown",
   "metadata": {},
   "source": [
    "###### Сегмент"
   ]
  },
  {
   "cell_type": "code",
   "execution_count": 70,
   "metadata": {},
   "outputs": [
    {
     "data": {
      "image/png": "[encoded data removed]",
      "text/plain": [
       "<Figure size 1080x432 with 1 Axes>"
      ]
     },
     "metadata": {
      "needs_background": "light"
     },
     "output_type": "display_data"
    }
   ],
   "source": [
    "func('segment_2013')  "
   ]
  },
  {
   "cell_type": "markdown",
   "metadata": {},
   "source": [
    "Гораздо чаще приобретают легковые автомобили и внедорожники. На легковые авто спрос возрастает с мая, на внедорожники с августа. Остальные сегменты покупают равномерно в течение года. Меньше всего приобретают пикапы и минивэны. "
   ]
  },
  {
   "cell_type": "markdown",
   "metadata": {},
   "source": [
    "### Продажи по регионам"
   ]
  },
  {
   "cell_type": "code",
   "execution_count": 71,
   "metadata": {},
   "outputs": [],
   "source": [
    "reg_group = new_data.pivot_table(index = 'region', values = 'quantity', aggfunc = 'sum')\\\n",
    "            .reset_index().sort_values(by = 'quantity', ascending = False)"
   ]
  },
  {
   "cell_type": "code",
   "execution_count": 72,
   "metadata": {},
   "outputs": [
    {
     "data": {
      "image/png": "[encoded data removed]",
      "text/plain": [
       "<Figure size 1080x432 with 1 Axes>"
      ]
     },
     "metadata": {
      "needs_background": "light"
     },
     "output_type": "display_data"
    }
   ],
   "source": [
    "plt.figure(figsize=(15,6))\n",
    "sns.barplot(x = 'region', y = 'quantity', data=reg_group, palette=colors)\n",
    "plt.xticks(rotation=45)\n",
    "plt.title('Продажи по регионам')\n",
    "plt.xlabel('Регион')\n",
    "plt.ylabel('Количество проданных авто')\n",
    "plt.show()"
   ]
  },
  {
   "cell_type": "code",
   "execution_count": 73,
   "metadata": {},
   "outputs": [
    {
     "data": {
      "image/png": "[encoded data removed]",
      "text/plain": [
       "<Figure size 720x720 with 1 Axes>"
      ]
     },
     "metadata": {
      "needs_background": "light"
     },
     "output_type": "display_data"
    }
   ],
   "source": [
    "# Создадим список цветов, которые хотим использовать в палитре\n",
    "colors = ['skyblue', 'orange', 'green', 'purple', 'pink', 'red', 'blue', 'yellow']\n",
    "\n",
    "# Создание визуализации с помощью squarify.plot()\n",
    "plt.figure(figsize=(10, 10))\n",
    "squarify.plot(sizes=reg_group['quantity'], label=reg_group['region'], alpha=0.7, color=colors, edgecolor='black')\n",
    "\n",
    "# Настройка внешнего вида графика\n",
    "plt.axis('off')  # Отключение осей\n",
    "plt.title('Древовидная карта городов')\n",
    "plt.show()"
   ]
  },
  {
   "cell_type": "markdown",
   "metadata": {},
   "source": [
    "Наибольшее количество авто приобретают в Алматы и в Астане."
   ]
  },
  {
   "cell_type": "markdown",
   "metadata": {},
   "source": [
    "### Продажи по автоцентрам"
   ]
  },
  {
   "cell_type": "code",
   "execution_count": 74,
   "metadata": {},
   "outputs": [],
   "source": [
    "company_group = new_data.pivot_table(index = 'company', values = 'quantity', aggfunc = 'sum')\\\n",
    "            .reset_index().sort_values(by = 'quantity', ascending = False)\n",
    "company_group_10 = company_group.head(10)"
   ]
  },
  {
   "cell_type": "code",
   "execution_count": 75,
   "metadata": {},
   "outputs": [
    {
     "data": {
      "image/png": "[encoded data removed]",
      "text/plain": [
       "<Figure size 1080x432 with 1 Axes>"
      ]
     },
     "metadata": {
      "needs_background": "light"
     },
     "output_type": "display_data"
    }
   ],
   "source": [
    "plt.figure(figsize=(15,6))\n",
    "sns.barplot(x = 'company', y = 'quantity', data=company_group_10, palette=colors)\n",
    "plt.xticks(rotation=45)\n",
    "plt.title('Продажи по автоцентрам')\n",
    "plt.xlabel('Название дилера')\n",
    "plt.ylabel('Количество проданных авто')\n",
    "plt.show()"
   ]
  },
  {
   "cell_type": "code",
   "execution_count": 76,
   "metadata": {},
   "outputs": [],
   "source": [
    "company_group_usd = new_data.pivot_table(index = 'company', values = 'really_price', aggfunc = 'sum')\\\n",
    "            .reset_index().sort_values(by = 'really_price', ascending = False)\n",
    "company_group_usd_10 = company_group_usd.head(10)"
   ]
  },
  {
   "cell_type": "code",
   "execution_count": 77,
   "metadata": {},
   "outputs": [
    {
     "data": {
      "image/png": "[encoded data removed]",
      "text/plain": [
       "<Figure size 1080x432 with 1 Axes>"
      ]
     },
     "metadata": {
      "needs_background": "light"
     },
     "output_type": "display_data"
    }
   ],
   "source": [
    "plt.figure(figsize=(15,6))\n",
    "sns.barplot(x = 'company', y = 'really_price', data=company_group_usd_10, palette=colors)\n",
    "plt.xticks(rotation=45)\n",
    "plt.title('Продажи по автоцентрам')\n",
    "plt.xlabel('Название дилера')\n",
    "plt.ylabel('Сумма проданных авто')\n",
    "plt.show()"
   ]
  },
  {
   "cell_type": "markdown",
   "metadata": {},
   "source": [
    "Лидером на рынке в денежном выражении является дилер 'Toyota Motor Kazakhstan', по количеству проданных автомобилей дилер БИПЭК АВТО. 'Mercur Auto' находится на 7 месте по сумме проданных авто и на 8 месте по количеству проданных авто."
   ]
  },
  {
   "cell_type": "markdown",
   "metadata": {},
   "source": [
    "### Cводные таблицы"
   ]
  },
  {
   "cell_type": "code",
   "execution_count": 78,
   "metadata": {},
   "outputs": [
    {
     "data": {
      "text/html": [
       "<div>\n",
       "<style scoped>\n",
       "    .dataframe tbody tr th:only-of-type {\n",
       "        vertical-align: middle;\n",
       "    }\n",
       "\n",
       "    .dataframe tbody tr th {\n",
       "        vertical-align: top;\n",
       "    }\n",
       "\n",
       "    .dataframe thead th {\n",
       "        text-align: right;\n",
       "    }\n",
       "</style>\n",
       "<table border=\"1\" class=\"dataframe\">\n",
       "  <thead>\n",
       "    <tr style=\"text-align: right;\">\n",
       "      <th></th>\n",
       "      <th>Название класса</th>\n",
       "      <th>Модель</th>\n",
       "      <th>Количество авто</th>\n",
       "    </tr>\n",
       "  </thead>\n",
       "  <tbody>\n",
       "    <tr>\n",
       "      <th>157</th>\n",
       "      <td>Субкомпактные SUV</td>\n",
       "      <td>Suzuki</td>\n",
       "      <td>2</td>\n",
       "    </tr>\n",
       "    <tr>\n",
       "      <th>156</th>\n",
       "      <td>Субкомпактные SUV</td>\n",
       "      <td>SsangYong</td>\n",
       "      <td>3</td>\n",
       "    </tr>\n",
       "    <tr>\n",
       "      <th>155</th>\n",
       "      <td>Субкомпактные SUV</td>\n",
       "      <td>Renault</td>\n",
       "      <td>5</td>\n",
       "    </tr>\n",
       "    <tr>\n",
       "      <th>154</th>\n",
       "      <td>Субкомпактные SUV</td>\n",
       "      <td>Lifan</td>\n",
       "      <td>206</td>\n",
       "    </tr>\n",
       "    <tr>\n",
       "      <th>153</th>\n",
       "      <td>Субкомпактные SUV</td>\n",
       "      <td>Lada</td>\n",
       "      <td>2329</td>\n",
       "    </tr>\n",
       "    <tr>\n",
       "      <th>152</th>\n",
       "      <td>Субкомпактные SUV</td>\n",
       "      <td>Hyundai</td>\n",
       "      <td>1202</td>\n",
       "    </tr>\n",
       "    <tr>\n",
       "      <th>151</th>\n",
       "      <td>Субкомпактные SUV</td>\n",
       "      <td>Chevrolet</td>\n",
       "      <td>538</td>\n",
       "    </tr>\n",
       "    <tr>\n",
       "      <th>145</th>\n",
       "      <td>Стандартные SUV</td>\n",
       "      <td>Mitsubishi</td>\n",
       "      <td>96</td>\n",
       "    </tr>\n",
       "    <tr>\n",
       "      <th>141</th>\n",
       "      <td>Стандартные SUV</td>\n",
       "      <td>Audi</td>\n",
       "      <td>11</td>\n",
       "    </tr>\n",
       "    <tr>\n",
       "      <th>142</th>\n",
       "      <td>Стандартные SUV</td>\n",
       "      <td>BMW</td>\n",
       "      <td>73</td>\n",
       "    </tr>\n",
       "    <tr>\n",
       "      <th>143</th>\n",
       "      <td>Стандартные SUV</td>\n",
       "      <td>Kia</td>\n",
       "      <td>318</td>\n",
       "    </tr>\n",
       "    <tr>\n",
       "      <th>144</th>\n",
       "      <td>Стандартные SUV</td>\n",
       "      <td>Lexus</td>\n",
       "      <td>21</td>\n",
       "    </tr>\n",
       "    <tr>\n",
       "      <th>148</th>\n",
       "      <td>Стандартные SUV</td>\n",
       "      <td>Toyota</td>\n",
       "      <td>1765</td>\n",
       "    </tr>\n",
       "    <tr>\n",
       "      <th>146</th>\n",
       "      <td>Стандартные SUV</td>\n",
       "      <td>Nissan</td>\n",
       "      <td>25</td>\n",
       "    </tr>\n",
       "    <tr>\n",
       "      <th>147</th>\n",
       "      <td>Стандартные SUV</td>\n",
       "      <td>Porsche</td>\n",
       "      <td>32</td>\n",
       "    </tr>\n",
       "  </tbody>\n",
       "</table>\n",
       "</div>"
      ],
      "text/plain": [
       "        Название класса      Модель  Количество авто\n",
       "157  Субкомпактные SUV       Suzuki                2\n",
       "156  Субкомпактные SUV    SsangYong                3\n",
       "155  Субкомпактные SUV      Renault                5\n",
       "154  Субкомпактные SUV        Lifan              206\n",
       "153  Субкомпактные SUV         Lada             2329\n",
       "152  Субкомпактные SUV      Hyundai             1202\n",
       "151  Субкомпактные SUV    Chevrolet              538\n",
       "145    Стандартные SUV   Mitsubishi               96\n",
       "141    Стандартные SUV         Audi               11\n",
       "142    Стандартные SUV          BMW               73\n",
       "143    Стандартные SUV          Kia              318\n",
       "144    Стандартные SUV        Lexus               21\n",
       "148    Стандартные SUV       Toyota             1765\n",
       "146    Стандартные SUV       Nissan               25\n",
       "147    Стандартные SUV      Porsche               32"
      ]
     },
     "execution_count": 78,
     "metadata": {},
     "output_type": "execute_result"
    }
   ],
   "source": [
    "pivot = new_data.pivot_table(index = ['class_2013', 'brand'],  values = 'quantity', aggfunc = 'sum').reset_index()\n",
    "pivot.columns = ['Название класса', 'Модель', 'Количество авто']\n",
    "pivot = pivot.sort_values(by = 'Название класса', ascending = False)\n",
    "pivot.head(15)"
   ]
  },
  {
   "cell_type": "code",
   "execution_count": 79,
   "metadata": {},
   "outputs": [
    {
     "data": {
      "image/png": "[encoded data removed]",
      "text/plain": [
       "<Figure size 1440x1080 with 1 Axes>"
      ]
     },
     "metadata": {
      "needs_background": "light"
     },
     "output_type": "display_data"
    }
   ],
   "source": [
    "plt.figure(figsize=(20,15))\n",
    "sns.scatterplot(data=pivot, x=\"Название класса\", y=\"Модель\", size = 'Количество авто')\n",
    "plt.xticks(rotation=90)\n",
    "plt.title('Продажи авто по бренду и классу в Казахстане в 2019 году')\n",
    "plt.show()"
   ]
  },
  {
   "cell_type": "markdown",
   "metadata": {},
   "source": [
    "Посмотрим корреляцию числовых значений по методу Пирсона"
   ]
  },
  {
   "cell_type": "code",
   "execution_count": 80,
   "metadata": {},
   "outputs": [
    {
     "data": {
      "text/html": [
       "<div>\n",
       "<style scoped>\n",
       "    .dataframe tbody tr th:only-of-type {\n",
       "        vertical-align: middle;\n",
       "    }\n",
       "\n",
       "    .dataframe tbody tr th {\n",
       "        vertical-align: top;\n",
       "    }\n",
       "\n",
       "    .dataframe thead th {\n",
       "        text-align: right;\n",
       "    }\n",
       "</style>\n",
       "<table border=\"1\" class=\"dataframe\">\n",
       "  <thead>\n",
       "    <tr style=\"text-align: right;\">\n",
       "      <th></th>\n",
       "      <th>year_of_release</th>\n",
       "      <th>volume_engine</th>\n",
       "      <th>quantity</th>\n",
       "      <th>price_usd</th>\n",
       "      <th>really_price</th>\n",
       "    </tr>\n",
       "  </thead>\n",
       "  <tbody>\n",
       "    <tr>\n",
       "      <th>year_of_release</th>\n",
       "      <td>1.000000</td>\n",
       "      <td>-0.091161</td>\n",
       "      <td>0.047120</td>\n",
       "      <td>-0.033417</td>\n",
       "      <td>-0.000106</td>\n",
       "    </tr>\n",
       "    <tr>\n",
       "      <th>volume_engine</th>\n",
       "      <td>-0.091161</td>\n",
       "      <td>1.000000</td>\n",
       "      <td>-0.081278</td>\n",
       "      <td>0.785900</td>\n",
       "      <td>0.418042</td>\n",
       "    </tr>\n",
       "    <tr>\n",
       "      <th>quantity</th>\n",
       "      <td>0.047120</td>\n",
       "      <td>-0.081278</td>\n",
       "      <td>1.000000</td>\n",
       "      <td>-0.107232</td>\n",
       "      <td>0.575615</td>\n",
       "    </tr>\n",
       "    <tr>\n",
       "      <th>price_usd</th>\n",
       "      <td>-0.033417</td>\n",
       "      <td>0.785900</td>\n",
       "      <td>-0.107232</td>\n",
       "      <td>1.000000</td>\n",
       "      <td>0.536787</td>\n",
       "    </tr>\n",
       "    <tr>\n",
       "      <th>really_price</th>\n",
       "      <td>-0.000106</td>\n",
       "      <td>0.418042</td>\n",
       "      <td>0.575615</td>\n",
       "      <td>0.536787</td>\n",
       "      <td>1.000000</td>\n",
       "    </tr>\n",
       "  </tbody>\n",
       "</table>\n",
       "</div>"
      ],
      "text/plain": [
       "                 year_of_release  volume_engine  quantity  price_usd  \\\n",
       "year_of_release         1.000000      -0.091161  0.047120  -0.033417   \n",
       "volume_engine          -0.091161       1.000000 -0.081278   0.785900   \n",
       "quantity                0.047120      -0.081278  1.000000  -0.107232   \n",
       "price_usd              -0.033417       0.785900 -0.107232   1.000000   \n",
       "really_price           -0.000106       0.418042  0.575615   0.536787   \n",
       "\n",
       "                 really_price  \n",
       "year_of_release     -0.000106  \n",
       "volume_engine        0.418042  \n",
       "quantity             0.575615  \n",
       "price_usd            0.536787  \n",
       "really_price         1.000000  "
      ]
     },
     "execution_count": 80,
     "metadata": {},
     "output_type": "execute_result"
    }
   ],
   "source": [
    "corr = new_data.corr()\n",
    "corr"
   ]
  },
  {
   "cell_type": "code",
   "execution_count": 81,
   "metadata": {},
   "outputs": [
    {
     "data": {
      "text/html": [
       "<style  type=\"text/css\" >\n",
       "#T_68783b1a_473a_11ee_8891_7824afb3725brow0_col0,#T_68783b1a_473a_11ee_8891_7824afb3725brow1_col1,#T_68783b1a_473a_11ee_8891_7824afb3725brow2_col2,#T_68783b1a_473a_11ee_8891_7824afb3725brow3_col3,#T_68783b1a_473a_11ee_8891_7824afb3725brow4_col4{\n",
       "            background-color:  #b40426;\n",
       "            color:  #f1f1f1;\n",
       "        }#T_68783b1a_473a_11ee_8891_7824afb3725brow0_col1,#T_68783b1a_473a_11ee_8891_7824afb3725brow0_col4,#T_68783b1a_473a_11ee_8891_7824afb3725brow1_col0,#T_68783b1a_473a_11ee_8891_7824afb3725brow2_col3,#T_68783b1a_473a_11ee_8891_7824afb3725brow3_col2{\n",
       "            background-color:  #3b4cc0;\n",
       "            color:  #f1f1f1;\n",
       "        }#T_68783b1a_473a_11ee_8891_7824afb3725brow0_col2{\n",
       "            background-color:  #6687ed;\n",
       "            color:  #000000;\n",
       "        }#T_68783b1a_473a_11ee_8891_7824afb3725brow0_col3{\n",
       "            background-color:  #4f69d9;\n",
       "            color:  #000000;\n",
       "        }#T_68783b1a_473a_11ee_8891_7824afb3725brow1_col2{\n",
       "            background-color:  #4257c9;\n",
       "            color:  #f1f1f1;\n",
       "        }#T_68783b1a_473a_11ee_8891_7824afb3725brow1_col3{\n",
       "            background-color:  #ec8165;\n",
       "            color:  #000000;\n",
       "        }#T_68783b1a_473a_11ee_8891_7824afb3725brow1_col4{\n",
       "            background-color:  #c6d6f1;\n",
       "            color:  #000000;\n",
       "        }#T_68783b1a_473a_11ee_8891_7824afb3725brow2_col0{\n",
       "            background-color:  #6282ea;\n",
       "            color:  #000000;\n",
       "        }#T_68783b1a_473a_11ee_8891_7824afb3725brow2_col1{\n",
       "            background-color:  #3d50c3;\n",
       "            color:  #f1f1f1;\n",
       "        }#T_68783b1a_473a_11ee_8891_7824afb3725brow2_col4{\n",
       "            background-color:  #eed0c0;\n",
       "            color:  #000000;\n",
       "        }#T_68783b1a_473a_11ee_8891_7824afb3725brow3_col0{\n",
       "            background-color:  #4a63d3;\n",
       "            color:  #f1f1f1;\n",
       "        }#T_68783b1a_473a_11ee_8891_7824afb3725brow3_col1{\n",
       "            background-color:  #ed8366;\n",
       "            color:  #000000;\n",
       "        }#T_68783b1a_473a_11ee_8891_7824afb3725brow3_col4{\n",
       "            background-color:  #e6d7cf;\n",
       "            color:  #000000;\n",
       "        }#T_68783b1a_473a_11ee_8891_7824afb3725brow4_col0{\n",
       "            background-color:  #5470de;\n",
       "            color:  #000000;\n",
       "        }#T_68783b1a_473a_11ee_8891_7824afb3725brow4_col1{\n",
       "            background-color:  #d4dbe6;\n",
       "            color:  #000000;\n",
       "        }#T_68783b1a_473a_11ee_8891_7824afb3725brow4_col2{\n",
       "            background-color:  #f3c7b1;\n",
       "            color:  #000000;\n",
       "        }#T_68783b1a_473a_11ee_8891_7824afb3725brow4_col3{\n",
       "            background-color:  #efcfbf;\n",
       "            color:  #000000;\n",
       "        }</style><table id=\"T_68783b1a_473a_11ee_8891_7824afb3725b\" ><thead>    <tr>        <th class=\"blank level0\" ></th>        <th class=\"col_heading level0 col0\" >year_of_release</th>        <th class=\"col_heading level0 col1\" >volume_engine</th>        <th class=\"col_heading level0 col2\" >quantity</th>        <th class=\"col_heading level0 col3\" >price_usd</th>        <th class=\"col_heading level0 col4\" >really_price</th>    </tr></thead><tbody>\n",
       "                <tr>\n",
       "                        <th id=\"T_68783b1a_473a_11ee_8891_7824afb3725blevel0_row0\" class=\"row_heading level0 row0\" >year_of_release</th>\n",
       "                        <td id=\"T_68783b1a_473a_11ee_8891_7824afb3725brow0_col0\" class=\"data row0 col0\" >1.000000</td>\n",
       "                        <td id=\"T_68783b1a_473a_11ee_8891_7824afb3725brow0_col1\" class=\"data row0 col1\" >-0.091161</td>\n",
       "                        <td id=\"T_68783b1a_473a_11ee_8891_7824afb3725brow0_col2\" class=\"data row0 col2\" >0.047120</td>\n",
       "                        <td id=\"T_68783b1a_473a_11ee_8891_7824afb3725brow0_col3\" class=\"data row0 col3\" >-0.033417</td>\n",
       "                        <td id=\"T_68783b1a_473a_11ee_8891_7824afb3725brow0_col4\" class=\"data row0 col4\" >-0.000106</td>\n",
       "            </tr>\n",
       "            <tr>\n",
       "                        <th id=\"T_68783b1a_473a_11ee_8891_7824afb3725blevel0_row1\" class=\"row_heading level0 row1\" >volume_engine</th>\n",
       "                        <td id=\"T_68783b1a_473a_11ee_8891_7824afb3725brow1_col0\" class=\"data row1 col0\" >-0.091161</td>\n",
       "                        <td id=\"T_68783b1a_473a_11ee_8891_7824afb3725brow1_col1\" class=\"data row1 col1\" >1.000000</td>\n",
       "                        <td id=\"T_68783b1a_473a_11ee_8891_7824afb3725brow1_col2\" class=\"data row1 col2\" >-0.081278</td>\n",
       "                        <td id=\"T_68783b1a_473a_11ee_8891_7824afb3725brow1_col3\" class=\"data row1 col3\" >0.785900</td>\n",
       "                        <td id=\"T_68783b1a_473a_11ee_8891_7824afb3725brow1_col4\" class=\"data row1 col4\" >0.418042</td>\n",
       "            </tr>\n",
       "            <tr>\n",
       "                        <th id=\"T_68783b1a_473a_11ee_8891_7824afb3725blevel0_row2\" class=\"row_heading level0 row2\" >quantity</th>\n",
       "                        <td id=\"T_68783b1a_473a_11ee_8891_7824afb3725brow2_col0\" class=\"data row2 col0\" >0.047120</td>\n",
       "                        <td id=\"T_68783b1a_473a_11ee_8891_7824afb3725brow2_col1\" class=\"data row2 col1\" >-0.081278</td>\n",
       "                        <td id=\"T_68783b1a_473a_11ee_8891_7824afb3725brow2_col2\" class=\"data row2 col2\" >1.000000</td>\n",
       "                        <td id=\"T_68783b1a_473a_11ee_8891_7824afb3725brow2_col3\" class=\"data row2 col3\" >-0.107232</td>\n",
       "                        <td id=\"T_68783b1a_473a_11ee_8891_7824afb3725brow2_col4\" class=\"data row2 col4\" >0.575615</td>\n",
       "            </tr>\n",
       "            <tr>\n",
       "                        <th id=\"T_68783b1a_473a_11ee_8891_7824afb3725blevel0_row3\" class=\"row_heading level0 row3\" >price_usd</th>\n",
       "                        <td id=\"T_68783b1a_473a_11ee_8891_7824afb3725brow3_col0\" class=\"data row3 col0\" >-0.033417</td>\n",
       "                        <td id=\"T_68783b1a_473a_11ee_8891_7824afb3725brow3_col1\" class=\"data row3 col1\" >0.785900</td>\n",
       "                        <td id=\"T_68783b1a_473a_11ee_8891_7824afb3725brow3_col2\" class=\"data row3 col2\" >-0.107232</td>\n",
       "                        <td id=\"T_68783b1a_473a_11ee_8891_7824afb3725brow3_col3\" class=\"data row3 col3\" >1.000000</td>\n",
       "                        <td id=\"T_68783b1a_473a_11ee_8891_7824afb3725brow3_col4\" class=\"data row3 col4\" >0.536787</td>\n",
       "            </tr>\n",
       "            <tr>\n",
       "                        <th id=\"T_68783b1a_473a_11ee_8891_7824afb3725blevel0_row4\" class=\"row_heading level0 row4\" >really_price</th>\n",
       "                        <td id=\"T_68783b1a_473a_11ee_8891_7824afb3725brow4_col0\" class=\"data row4 col0\" >-0.000106</td>\n",
       "                        <td id=\"T_68783b1a_473a_11ee_8891_7824afb3725brow4_col1\" class=\"data row4 col1\" >0.418042</td>\n",
       "                        <td id=\"T_68783b1a_473a_11ee_8891_7824afb3725brow4_col2\" class=\"data row4 col2\" >0.575615</td>\n",
       "                        <td id=\"T_68783b1a_473a_11ee_8891_7824afb3725brow4_col3\" class=\"data row4 col3\" >0.536787</td>\n",
       "                        <td id=\"T_68783b1a_473a_11ee_8891_7824afb3725brow4_col4\" class=\"data row4 col4\" >1.000000</td>\n",
       "            </tr>\n",
       "    </tbody></table>"
      ],
      "text/plain": [
       "<pandas.io.formats.style.Styler at 0x244bcd36d30>"
      ]
     },
     "execution_count": 81,
     "metadata": {},
     "output_type": "execute_result"
    }
   ],
   "source": [
    "corr.style.background_gradient(cmap='coolwarm')"
   ]
  },
  {
   "cell_type": "markdown",
   "metadata": {},
   "source": [
    "###### Вывод:\n",
    "Проанализировав данные выше, можно выделить Toyota с бензиновым двигателем как самый продаваемый автомобиль. Гораздо чаще люди покупают автомобили летом и осенью. Предпочитаемыми городами для покупки являются Алматы и Астана. В топе у покупателей авто из сегмента 'Внедорожники' и 'Легковые авто'. Визуализация корреляции показывают сильную зависимость между объемом двигателя и ценой автомобиля. "
   ]
  },
  {
   "cell_type": "markdown",
   "metadata": {},
   "source": [
    "## Расчет показателей"
   ]
  },
  {
   "cell_type": "markdown",
   "metadata": {},
   "source": [
    "Данный пункт проекта будет рассчитан для дилера 'Mercur Auto'. Отфильтруем данные по этому параметру."
   ]
  },
  {
   "cell_type": "code",
   "execution_count": 82,
   "metadata": {},
   "outputs": [
    {
     "data": {
      "text/html": [
       "<div>\n",
       "<style scoped>\n",
       "    .dataframe tbody tr th:only-of-type {\n",
       "        vertical-align: middle;\n",
       "    }\n",
       "\n",
       "    .dataframe tbody tr th {\n",
       "        vertical-align: top;\n",
       "    }\n",
       "\n",
       "    .dataframe thead th {\n",
       "        text-align: right;\n",
       "    }\n",
       "</style>\n",
       "<table border=\"1\" class=\"dataframe\">\n",
       "  <thead>\n",
       "    <tr style=\"text-align: right;\">\n",
       "      <th></th>\n",
       "      <th>company</th>\n",
       "      <th>brand</th>\n",
       "      <th>model</th>\n",
       "      <th>year_of_release</th>\n",
       "      <th>country</th>\n",
       "      <th>fuel_type</th>\n",
       "      <th>volume_engine</th>\n",
       "      <th>gearbox</th>\n",
       "      <th>gearing</th>\n",
       "      <th>region</th>\n",
       "      <th>quantity</th>\n",
       "      <th>price_usd</th>\n",
       "      <th>really_price</th>\n",
       "      <th>segment_2013</th>\n",
       "      <th>class_2013</th>\n",
       "      <th>date</th>\n",
       "    </tr>\n",
       "  </thead>\n",
       "  <tbody>\n",
       "    <tr>\n",
       "      <th>1</th>\n",
       "      <td>Mercur Auto</td>\n",
       "      <td>Audi</td>\n",
       "      <td>A3</td>\n",
       "      <td>2018</td>\n",
       "      <td>DEU</td>\n",
       "      <td>F</td>\n",
       "      <td>1.4</td>\n",
       "      <td>AMT</td>\n",
       "      <td>FWD</td>\n",
       "      <td>Алматы</td>\n",
       "      <td>1</td>\n",
       "      <td>30581</td>\n",
       "      <td>30581</td>\n",
       "      <td>Легковые автомобили</td>\n",
       "      <td>C класс</td>\n",
       "      <td>2019-05-28</td>\n",
       "    </tr>\n",
       "    <tr>\n",
       "      <th>2</th>\n",
       "      <td>Mercur Auto</td>\n",
       "      <td>Audi</td>\n",
       "      <td>A3</td>\n",
       "      <td>2018</td>\n",
       "      <td>DEU</td>\n",
       "      <td>F</td>\n",
       "      <td>1.4</td>\n",
       "      <td>AMT</td>\n",
       "      <td>FWD</td>\n",
       "      <td>Алматы</td>\n",
       "      <td>1</td>\n",
       "      <td>35087</td>\n",
       "      <td>35087</td>\n",
       "      <td>Легковые автомобили</td>\n",
       "      <td>C класс</td>\n",
       "      <td>2019-06-28</td>\n",
       "    </tr>\n",
       "    <tr>\n",
       "      <th>3</th>\n",
       "      <td>Mercur Auto</td>\n",
       "      <td>Audi</td>\n",
       "      <td>A3</td>\n",
       "      <td>2017</td>\n",
       "      <td>DEU</td>\n",
       "      <td>F</td>\n",
       "      <td>1.4</td>\n",
       "      <td>AMT</td>\n",
       "      <td>FWD</td>\n",
       "      <td>Алматы</td>\n",
       "      <td>1</td>\n",
       "      <td>26608</td>\n",
       "      <td>26608</td>\n",
       "      <td>Легковые автомобили</td>\n",
       "      <td>C класс</td>\n",
       "      <td>2019-07-28</td>\n",
       "    </tr>\n",
       "    <tr>\n",
       "      <th>4</th>\n",
       "      <td>Mercur Auto</td>\n",
       "      <td>Audi</td>\n",
       "      <td>A4</td>\n",
       "      <td>2017</td>\n",
       "      <td>DEU</td>\n",
       "      <td>F</td>\n",
       "      <td>2.0</td>\n",
       "      <td>AMT</td>\n",
       "      <td>4WD</td>\n",
       "      <td>Алматы</td>\n",
       "      <td>1</td>\n",
       "      <td>48343</td>\n",
       "      <td>48343</td>\n",
       "      <td>Легковые автомобили</td>\n",
       "      <td>D класс</td>\n",
       "      <td>2019-07-28</td>\n",
       "    </tr>\n",
       "    <tr>\n",
       "      <th>5</th>\n",
       "      <td>Mercur Auto</td>\n",
       "      <td>Audi</td>\n",
       "      <td>A5</td>\n",
       "      <td>2017</td>\n",
       "      <td>DEU</td>\n",
       "      <td>F</td>\n",
       "      <td>2.0</td>\n",
       "      <td>AMT</td>\n",
       "      <td>4WD</td>\n",
       "      <td>Алматы</td>\n",
       "      <td>1</td>\n",
       "      <td>52760</td>\n",
       "      <td>52760</td>\n",
       "      <td>Легковые автомобили</td>\n",
       "      <td>Спортивные автомобили</td>\n",
       "      <td>2019-06-28</td>\n",
       "    </tr>\n",
       "    <tr>\n",
       "      <th>6</th>\n",
       "      <td>Mercur Auto</td>\n",
       "      <td>Audi</td>\n",
       "      <td>A6</td>\n",
       "      <td>2017</td>\n",
       "      <td>DEU</td>\n",
       "      <td>F</td>\n",
       "      <td>2.0</td>\n",
       "      <td>AMT</td>\n",
       "      <td>4WD</td>\n",
       "      <td>Костанай</td>\n",
       "      <td>1</td>\n",
       "      <td>54288</td>\n",
       "      <td>54288</td>\n",
       "      <td>Легковые автомобили</td>\n",
       "      <td>E класс</td>\n",
       "      <td>2019-01-28</td>\n",
       "    </tr>\n",
       "    <tr>\n",
       "      <th>7</th>\n",
       "      <td>Mercur Auto</td>\n",
       "      <td>Audi</td>\n",
       "      <td>A6</td>\n",
       "      <td>2017</td>\n",
       "      <td>DEU</td>\n",
       "      <td>F</td>\n",
       "      <td>2.0</td>\n",
       "      <td>AMT</td>\n",
       "      <td>4WD</td>\n",
       "      <td>Алматы</td>\n",
       "      <td>1</td>\n",
       "      <td>54109</td>\n",
       "      <td>54109</td>\n",
       "      <td>Легковые автомобили</td>\n",
       "      <td>E класс</td>\n",
       "      <td>2019-01-28</td>\n",
       "    </tr>\n",
       "  </tbody>\n",
       "</table>\n",
       "</div>"
      ],
      "text/plain": [
       "       company brand model  year_of_release country fuel_type  volume_engine  \\\n",
       "1  Mercur Auto  Audi    A3             2018     DEU         F            1.4   \n",
       "2  Mercur Auto  Audi    A3             2018     DEU         F            1.4   \n",
       "3  Mercur Auto  Audi    A3             2017     DEU         F            1.4   \n",
       "4  Mercur Auto  Audi    A4             2017     DEU         F            2.0   \n",
       "5  Mercur Auto  Audi    A5             2017     DEU         F            2.0   \n",
       "6  Mercur Auto  Audi    A6             2017     DEU         F            2.0   \n",
       "7  Mercur Auto  Audi    A6             2017     DEU         F            2.0   \n",
       "\n",
       "  gearbox gearing    region  quantity  price_usd  really_price  \\\n",
       "1     AMT     FWD    Алматы         1      30581         30581   \n",
       "2     AMT     FWD    Алматы         1      35087         35087   \n",
       "3     AMT     FWD    Алматы         1      26608         26608   \n",
       "4     AMT     4WD    Алматы         1      48343         48343   \n",
       "5     AMT     4WD    Алматы         1      52760         52760   \n",
       "6     AMT     4WD  Костанай         1      54288         54288   \n",
       "7     AMT     4WD    Алматы         1      54109         54109   \n",
       "\n",
       "           segment_2013              class_2013       date  \n",
       "1  Легковые автомобили                 C класс  2019-05-28  \n",
       "2  Легковые автомобили                 C класс  2019-06-28  \n",
       "3  Легковые автомобили                 C класс  2019-07-28  \n",
       "4  Легковые автомобили                 D класс  2019-07-28  \n",
       "5  Легковые автомобили   Спортивные автомобили  2019-06-28  \n",
       "6  Легковые автомобили                 E класс  2019-01-28  \n",
       "7  Легковые автомобили                 E класс  2019-01-28  "
      ]
     },
     "execution_count": 82,
     "metadata": {},
     "output_type": "execute_result"
    }
   ],
   "source": [
    "mercur = new_data.query('company == \"Mercur Auto\"')\n",
    "mercur.head(7)"
   ]
  },
  {
   "cell_type": "markdown",
   "metadata": {},
   "source": [
    "### Прибыль и выручка"
   ]
  },
  {
   "cell_type": "markdown",
   "metadata": {},
   "source": [
    "#### Прибыль и выручка за период"
   ]
  },
  {
   "cell_type": "code",
   "execution_count": 83,
   "metadata": {},
   "outputs": [
    {
     "name": "stdout",
     "output_type": "stream",
     "text": [
      "Общая прибыль дилера: 24323049\n"
     ]
    }
   ],
   "source": [
    "profit = mercur['really_price'].sum()\n",
    "print('Общая прибыль дилера:', profit)"
   ]
  },
  {
   "cell_type": "code",
   "execution_count": 84,
   "metadata": {},
   "outputs": [
    {
     "name": "stdout",
     "output_type": "stream",
     "text": [
      "Прибыль дилера в зависимости от бренда:\n",
      "brand\n",
      "Audi           6325033\n",
      "Porsche        6547354\n",
      "Volkswagen    11450662\n",
      "Name: really_price, dtype: int32\n"
     ]
    }
   ],
   "source": [
    "profit_brand = mercur.groupby('brand')['really_price'].agg('sum')\n",
    "print('Прибыль дилера в зависимости от бренда:')\n",
    "print(profit_brand)"
   ]
  },
  {
   "cell_type": "code",
   "execution_count": 85,
   "metadata": {},
   "outputs": [
    {
     "name": "stdout",
     "output_type": "stream",
     "text": [
      "Средняя стоимость продажи за период 40742.13\n"
     ]
    }
   ],
   "source": [
    "mean_price = mercur['really_price'].mean()\n",
    "print('Средняя стоимость продажи за период', round(mean_price, 2))"
   ]
  },
  {
   "cell_type": "code",
   "execution_count": 86,
   "metadata": {},
   "outputs": [
    {
     "name": "stdout",
     "output_type": "stream",
     "text": [
      "Cредняя стоимость в разбивке по маркам:\n",
      "brand\n",
      "Audi           62010.13\n",
      "Porsche       109122.57\n",
      "Volkswagen     26323.36\n",
      "Name: really_price, dtype: float64\n"
     ]
    }
   ],
   "source": [
    "mean_price_month = mercur.groupby('brand')['really_price'].agg('mean')\n",
    "print('Cредняя стоимость в разбивке по маркам:')\n",
    "print(round(mean_price_month,2))"
   ]
  },
  {
   "cell_type": "markdown",
   "metadata": {},
   "source": [
    "Общая прибыль дилера составила 24323049 usd, половину которой составила прибыль от продажи авто Volkswagen (11450662 usd). Средняя стоимость продаж выше у Porshe, что логично, ведь это премиальный класс."
   ]
  },
  {
   "cell_type": "markdown",
   "metadata": {},
   "source": [
    "#### Прибыль и выручка помесячно: "
   ]
  },
  {
   "cell_type": "code",
   "execution_count": 87,
   "metadata": {},
   "outputs": [],
   "source": [
    "profit_month = mercur.pivot_table(index = 'date', values = 'really_price', aggfunc = 'sum').reset_index()"
   ]
  },
  {
   "cell_type": "code",
   "execution_count": 88,
   "metadata": {},
   "outputs": [
    {
     "data": {
      "text/plain": [
       "Text(0,0.5,'Прибыль')"
      ]
     },
     "execution_count": 88,
     "metadata": {},
     "output_type": "execute_result"
    },
    {
     "data": {
      "image/png": "[encoded data removed]",
      "text/plain": [
       "<Figure size 1080x288 with 1 Axes>"
      ]
     },
     "metadata": {
      "needs_background": "light"
     },
     "output_type": "display_data"
    }
   ],
   "source": [
    "plt.figure(figsize=(15,4))\n",
    "sns.lineplot(data=profit_month, x=\"date\", y=\"really_price\")\n",
    "plt.xticks(rotation=45)\n",
    "plt.title('Ежемемесячная прибыль')\n",
    "plt.xlabel('Месяц')\n",
    "plt.ylabel('Прибыль')"
   ]
  },
  {
   "cell_type": "code",
   "execution_count": 89,
   "metadata": {},
   "outputs": [],
   "source": [
    "profit_month_brand = mercur.pivot_table(index = ['date', 'brand'], values = 'really_price', aggfunc = 'sum').reset_index()"
   ]
  },
  {
   "cell_type": "code",
   "execution_count": 90,
   "metadata": {},
   "outputs": [
    {
     "data": {
      "text/plain": [
       "Text(0,0.5,'Прибыль')"
      ]
     },
     "execution_count": 90,
     "metadata": {},
     "output_type": "execute_result"
    },
    {
     "data": {
      "image/png": "[encoded data removed]",
      "text/plain": [
       "<Figure size 1080x360 with 1 Axes>"
      ]
     },
     "metadata": {
      "needs_background": "light"
     },
     "output_type": "display_data"
    }
   ],
   "source": [
    "plt.figure(figsize=(15,5))\n",
    "sns.lineplot(data=profit_month_brand, x=\"date\", y=\"really_price\", hue=\"brand\")\n",
    "plt.xticks(rotation=45)\n",
    "plt.title('Ежемемесячная прибыль по брендам')\n",
    "plt.xlabel('Дата')\n",
    "plt.ylabel('Прибыль')"
   ]
  },
  {
   "cell_type": "code",
   "execution_count": 91,
   "metadata": {},
   "outputs": [],
   "source": [
    "profit_avg_month = mercur.pivot_table(index = 'date', values = 'really_price', aggfunc = 'mean').reset_index()"
   ]
  },
  {
   "cell_type": "code",
   "execution_count": 92,
   "metadata": {},
   "outputs": [
    {
     "data": {
      "text/plain": [
       "Text(0,0.5,'Прибыль')"
      ]
     },
     "execution_count": 92,
     "metadata": {},
     "output_type": "execute_result"
    },
    {
     "data": {
      "image/png": "[encoded data removed]",
      "text/plain": [
       "<Figure size 1080x360 with 1 Axes>"
      ]
     },
     "metadata": {
      "needs_background": "light"
     },
     "output_type": "display_data"
    }
   ],
   "source": [
    "plt.figure(figsize=(15,5))\n",
    "sns.lineplot(data=profit_avg_month, x=\"date\", y=\"really_price\")\n",
    "plt.xticks(rotation=45)\n",
    "plt.title('Ежемесячная средняя стоимость продажи')\n",
    "plt.xlabel('Месяц')\n",
    "plt.ylabel('Прибыль')"
   ]
  },
  {
   "cell_type": "code",
   "execution_count": 93,
   "metadata": {},
   "outputs": [],
   "source": [
    "mean_month_brand = mercur.pivot_table(index = ['date', 'brand'], values = 'really_price', aggfunc = 'mean').reset_index()"
   ]
  },
  {
   "cell_type": "code",
   "execution_count": 94,
   "metadata": {},
   "outputs": [
    {
     "data": {
      "text/plain": [
       "Text(0,0.5,'Прибыль')"
      ]
     },
     "execution_count": 94,
     "metadata": {},
     "output_type": "execute_result"
    },
    {
     "data": {
      "image/png": "[encoded data removed]",
      "text/plain": [
       "<Figure size 1080x360 with 1 Axes>"
      ]
     },
     "metadata": {
      "needs_background": "light"
     },
     "output_type": "display_data"
    }
   ],
   "source": [
    "plt.figure(figsize=(15,5))\n",
    "sns.lineplot(data=mean_month_brand, x=\"date\", y=\"really_price\", hue=\"brand\")\n",
    "plt.xticks(rotation=45)\n",
    "plt.title('Ежемесячная стоимость продажи в разбивке по маркам')\n",
    "plt.xlabel('Дата')\n",
    "plt.ylabel('Прибыль')"
   ]
  },
  {
   "cell_type": "markdown",
   "metadata": {},
   "source": [
    "Ежемесячная прибыль дилера 'Mercur Auto' была на пике с мая по июль, судя по графику прибыли по брендам, за счет продаж автомобилей Volkswagen. Ежемесячная средняя стоимость продажи имеет максимумы в марте и августе, в эти месяца были совершены покупки Porshe."
   ]
  },
  {
   "cell_type": "markdown",
   "metadata": {},
   "source": [
    "### Рынок"
   ]
  },
  {
   "cell_type": "markdown",
   "metadata": {},
   "source": [
    "#### Емкость рынка"
   ]
  },
  {
   "cell_type": "code",
   "execution_count": 95,
   "metadata": {},
   "outputs": [
    {
     "name": "stdout",
     "output_type": "stream",
     "text": [
      "Фактическая емкость рынка: 1025943485\n"
     ]
    }
   ],
   "source": [
    "capacity = new_data['really_price'].sum()\n",
    "print('Фактическая емкость рынка:', capacity)"
   ]
  },
  {
   "cell_type": "code",
   "execution_count": 96,
   "metadata": {},
   "outputs": [
    {
     "name": "stdout",
     "output_type": "stream",
     "text": [
      "Прогнозная емкость рынка: 1282429356.25\n"
     ]
    }
   ],
   "source": [
    "capacity_prediction = capacity*1.25\n",
    "print('Прогнозная емкость рынка:', capacity_prediction)"
   ]
  },
  {
   "cell_type": "markdown",
   "metadata": {},
   "source": [
    "#### Емкость сегментов рынка (по маркам и типам авто)"
   ]
  },
  {
   "cell_type": "code",
   "execution_count": 97,
   "metadata": {},
   "outputs": [
    {
     "data": {
      "text/html": [
       "<div>\n",
       "<style scoped>\n",
       "    .dataframe tbody tr th:only-of-type {\n",
       "        vertical-align: middle;\n",
       "    }\n",
       "\n",
       "    .dataframe tbody tr th {\n",
       "        vertical-align: top;\n",
       "    }\n",
       "\n",
       "    .dataframe thead th {\n",
       "        text-align: right;\n",
       "    }\n",
       "</style>\n",
       "<table border=\"1\" class=\"dataframe\">\n",
       "  <thead>\n",
       "    <tr style=\"text-align: right;\">\n",
       "      <th></th>\n",
       "      <th>capacity_brand</th>\n",
       "    </tr>\n",
       "    <tr>\n",
       "      <th>brand</th>\n",
       "      <th></th>\n",
       "    </tr>\n",
       "  </thead>\n",
       "  <tbody>\n",
       "    <tr>\n",
       "      <th>Toyota</th>\n",
       "      <td>383870499</td>\n",
       "    </tr>\n",
       "    <tr>\n",
       "      <th>Hyundai</th>\n",
       "      <td>124844281</td>\n",
       "    </tr>\n",
       "    <tr>\n",
       "      <th>Lada</th>\n",
       "      <td>93870615</td>\n",
       "    </tr>\n",
       "    <tr>\n",
       "      <th>Lexus</th>\n",
       "      <td>83284417</td>\n",
       "    </tr>\n",
       "    <tr>\n",
       "      <th>GAZ</th>\n",
       "      <td>40419557</td>\n",
       "    </tr>\n",
       "    <tr>\n",
       "      <th>Nissan</th>\n",
       "      <td>36987754</td>\n",
       "    </tr>\n",
       "    <tr>\n",
       "      <th>Kia</th>\n",
       "      <td>36750897</td>\n",
       "    </tr>\n",
       "    <tr>\n",
       "      <th>BMW</th>\n",
       "      <td>23313011</td>\n",
       "    </tr>\n",
       "    <tr>\n",
       "      <th>Subaru</th>\n",
       "      <td>17311252</td>\n",
       "    </tr>\n",
       "    <tr>\n",
       "      <th>Ravon</th>\n",
       "      <td>17148220</td>\n",
       "    </tr>\n",
       "  </tbody>\n",
       "</table>\n",
       "</div>"
      ],
      "text/plain": [
       "         capacity_brand\n",
       "brand                  \n",
       "Toyota        383870499\n",
       "Hyundai       124844281\n",
       "Lada           93870615\n",
       "Lexus          83284417\n",
       "GAZ            40419557\n",
       "Nissan         36987754\n",
       "Kia            36750897\n",
       "BMW            23313011\n",
       "Subaru         17311252\n",
       "Ravon          17148220"
      ]
     },
     "execution_count": 97,
     "metadata": {},
     "output_type": "execute_result"
    }
   ],
   "source": [
    "capacity_brand = new_data.pivot_table(index = 'brand', values = 'really_price', aggfunc = 'sum')\n",
    "capacity_brand.columns = ['capacity_brand']\n",
    "capacity_brand = capacity_brand.sort_values(by = 'capacity_brand', ascending = False)\n",
    "capacity_brand.head(10)"
   ]
  },
  {
   "cell_type": "code",
   "execution_count": 98,
   "metadata": {},
   "outputs": [
    {
     "data": {
      "text/html": [
       "<div>\n",
       "<style scoped>\n",
       "    .dataframe tbody tr th:only-of-type {\n",
       "        vertical-align: middle;\n",
       "    }\n",
       "\n",
       "    .dataframe tbody tr th {\n",
       "        vertical-align: top;\n",
       "    }\n",
       "\n",
       "    .dataframe thead th {\n",
       "        text-align: right;\n",
       "    }\n",
       "</style>\n",
       "<table border=\"1\" class=\"dataframe\">\n",
       "  <thead>\n",
       "    <tr style=\"text-align: right;\">\n",
       "      <th></th>\n",
       "      <th>capacity_segment</th>\n",
       "    </tr>\n",
       "    <tr>\n",
       "      <th>segment_2013</th>\n",
       "      <th></th>\n",
       "    </tr>\n",
       "  </thead>\n",
       "  <tbody>\n",
       "    <tr>\n",
       "      <th>Внедорожники</th>\n",
       "      <td>563600581</td>\n",
       "    </tr>\n",
       "    <tr>\n",
       "      <th>Легковые автомобили</th>\n",
       "      <td>341755324</td>\n",
       "    </tr>\n",
       "    <tr>\n",
       "      <th>Коммерческие автомобили</th>\n",
       "      <td>91136731</td>\n",
       "    </tr>\n",
       "    <tr>\n",
       "      <th>Пикапы</th>\n",
       "      <td>27125695</td>\n",
       "    </tr>\n",
       "    <tr>\n",
       "      <th>Минивэны</th>\n",
       "      <td>2325154</td>\n",
       "    </tr>\n",
       "  </tbody>\n",
       "</table>\n",
       "</div>"
      ],
      "text/plain": [
       "                          capacity_segment\n",
       "segment_2013                              \n",
       "Внедорожники                     563600581\n",
       "Легковые автомобили              341755324\n",
       "Коммерческие автомобили           91136731\n",
       "Пикапы                            27125695\n",
       "Минивэны                           2325154"
      ]
     },
     "execution_count": 98,
     "metadata": {},
     "output_type": "execute_result"
    }
   ],
   "source": [
    "capacity_segment = new_data.pivot_table(index = 'segment_2013', values = 'really_price', aggfunc = 'sum')\n",
    "capacity_segment.columns = ['capacity_segment']\n",
    "capacity_segment = capacity_segment.sort_values(by = 'capacity_segment', ascending = False)\n",
    "capacity_segment.head(10)"
   ]
  },
  {
   "cell_type": "markdown",
   "metadata": {},
   "source": [
    "### Доля рынка"
   ]
  },
  {
   "cell_type": "markdown",
   "metadata": {},
   "source": [
    "#### Общая доля рынка дилера в количественном и стоимостном выражении"
   ]
  },
  {
   "cell_type": "code",
   "execution_count": 99,
   "metadata": {},
   "outputs": [
    {
     "name": "stdout",
     "output_type": "stream",
     "text": [
      "Доля рынка в количественном выражении: 1.77\n",
      "Доля рынка в денежном выражении: 2.37\n"
     ]
    }
   ],
   "source": [
    "#Функция расчета доли рынка дилера\n",
    "def part(name):\n",
    "    pivot_table = new_data.query('company == @name')\n",
    "    part_qty = (pivot_table['quantity'].sum() / new_data['quantity'].sum()) * 100\n",
    "    print('Доля рынка в количественном выражении:', round(part_qty, 2))\n",
    "    part_usd = (pivot_table['really_price'].sum() / new_data['really_price'].sum()) * 100\n",
    "    print('Доля рынка в денежном выражении:', round(part_usd, 2))\n",
    "\n",
    "\n",
    "part('Mercur Auto')    "
   ]
  },
  {
   "cell_type": "markdown",
   "metadata": {},
   "source": [
    "Дилер Mercur Auto занимает только 1,77% доли рынка в количественном выражении и 2,37% в стоимостном выражении"
   ]
  },
  {
   "cell_type": "markdown",
   "metadata": {},
   "source": [
    "#### Доля рынка дилера по маркам"
   ]
  },
  {
   "cell_type": "code",
   "execution_count": 100,
   "metadata": {},
   "outputs": [
    {
     "data": {
      "text/plain": [
       "array(['Audi', 'Porsche', 'Volkswagen'], dtype=object)"
      ]
     },
     "execution_count": 100,
     "metadata": {},
     "output_type": "execute_result"
    }
   ],
   "source": [
    "mercur['brand'].unique()"
   ]
  },
  {
   "cell_type": "code",
   "execution_count": 101,
   "metadata": {},
   "outputs": [],
   "source": [
    "all_company = new_data.query('brand in [\"Audi\", \"Porsche\", \"Volkswagen\"]')"
   ]
  },
  {
   "cell_type": "code",
   "execution_count": 102,
   "metadata": {},
   "outputs": [
    {
     "data": {
      "text/plain": [
       "100.0"
      ]
     },
     "execution_count": 102,
     "metadata": {},
     "output_type": "execute_result"
    }
   ],
   "source": [
    "part_brand =  (mercur['quantity'].sum()/all_company['quantity'].sum())*100\n",
    "part_brand"
   ]
  },
  {
   "cell_type": "code",
   "execution_count": 103,
   "metadata": {},
   "outputs": [
    {
     "data": {
      "text/plain": [
       "100.0"
      ]
     },
     "execution_count": 103,
     "metadata": {},
     "output_type": "execute_result"
    }
   ],
   "source": [
    "part_brand_usd =  (mercur['really_price'].sum()/all_company['really_price'].sum())*100\n",
    "part_brand_usd"
   ]
  },
  {
   "cell_type": "markdown",
   "metadata": {},
   "source": [
    "Mercur Auto является единственным дилером в Казахстане, который продает автомобили марок Ауди, Порш и Фольксваген."
   ]
  },
  {
   "cell_type": "markdown",
   "metadata": {},
   "source": [
    "#### Посчитать долю рынка дилера по типам машин"
   ]
  },
  {
   "cell_type": "code",
   "execution_count": 104,
   "metadata": {},
   "outputs": [
    {
     "data": {
      "text/plain": [
       "['Легковые автомобили ', 'Внедорожники ', 'Пикапы ', 'Минивэны', 'Коммерческие автомобили ']\n",
       "Categories (5, object): ['Легковые автомобили ', 'Внедорожники ', 'Пикапы ', 'Минивэны', 'Коммерческие автомобили ']"
      ]
     },
     "execution_count": 104,
     "metadata": {},
     "output_type": "execute_result"
    }
   ],
   "source": [
    "mercur['segment_2013'].unique()"
   ]
  },
  {
   "cell_type": "code",
   "execution_count": 105,
   "metadata": {},
   "outputs": [
    {
     "name": "stdout",
     "output_type": "stream",
     "text": [
      "Доля рынка Легковые автомобили  4.11\n",
      "Доля рынка Внедорожники  1.71\n",
      "Доля рынка Пикапы  1.04\n",
      "Доля рынка Минивэны 13.15\n",
      "Доля рынка Коммерческие автомобили  0.04\n"
     ]
    }
   ],
   "source": [
    "type = ['Легковые автомобили ', 'Внедорожники ', 'Пикапы ', 'Минивэны', 'Коммерческие автомобили ']\n",
    "for i in type:\n",
    "    car_mercur = mercur.query('segment_2013 == @i')['really_price'].sum()\n",
    "    car_total = new_data.query('segment_2013 == @i')['really_price'].sum()\n",
    "    part_car = car_mercur*100/car_total\n",
    "    print('Доля рынка', i, round(part_car, 2))\n",
    "    \n",
    "    "
   ]
  },
  {
   "cell_type": "markdown",
   "metadata": {},
   "source": [
    "Минивэны занимают большую долю рынка в денежном выражении (13%) по сравнению с другими типами машин."
   ]
  },
  {
   "cell_type": "markdown",
   "metadata": {},
   "source": [
    "### Конкуренты"
   ]
  },
  {
   "cell_type": "markdown",
   "metadata": {},
   "source": [
    "Выведем сводную таблицу по всем дилерам, которые присутствуют в датасете"
   ]
  },
  {
   "cell_type": "code",
   "execution_count": 106,
   "metadata": {},
   "outputs": [
    {
     "data": {
      "text/html": [
       "<div>\n",
       "<style scoped>\n",
       "    .dataframe tbody tr th:only-of-type {\n",
       "        vertical-align: middle;\n",
       "    }\n",
       "\n",
       "    .dataframe tbody tr th {\n",
       "        vertical-align: top;\n",
       "    }\n",
       "\n",
       "    .dataframe thead th {\n",
       "        text-align: right;\n",
       "    }\n",
       "</style>\n",
       "<table border=\"1\" class=\"dataframe\">\n",
       "  <thead>\n",
       "    <tr style=\"text-align: right;\">\n",
       "      <th></th>\n",
       "      <th>Количество проданных авто</th>\n",
       "      <th>Средняя цена покупки</th>\n",
       "      <th>Количество регионов с автосалонами</th>\n",
       "    </tr>\n",
       "    <tr>\n",
       "      <th>company</th>\n",
       "      <th></th>\n",
       "      <th></th>\n",
       "      <th></th>\n",
       "    </tr>\n",
       "  </thead>\n",
       "  <tbody>\n",
       "    <tr>\n",
       "      <th>БИПЭК АВТО</th>\n",
       "      <td>12510</td>\n",
       "      <td>45039.208160</td>\n",
       "      <td>20</td>\n",
       "    </tr>\n",
       "    <tr>\n",
       "      <th>Toyota Motor Kazakhstan</th>\n",
       "      <td>10425</td>\n",
       "      <td>44811.023118</td>\n",
       "      <td>15</td>\n",
       "    </tr>\n",
       "    <tr>\n",
       "      <th>Astana Motors</th>\n",
       "      <td>5779</td>\n",
       "      <td>22425.561978</td>\n",
       "      <td>16</td>\n",
       "    </tr>\n",
       "    <tr>\n",
       "      <th>Вираж</th>\n",
       "      <td>3358</td>\n",
       "      <td>17306.512507</td>\n",
       "      <td>18</td>\n",
       "    </tr>\n",
       "    <tr>\n",
       "      <th>Nissan Manufacturing RUS</th>\n",
       "      <td>1739</td>\n",
       "      <td>42331.768102</td>\n",
       "      <td>11</td>\n",
       "    </tr>\n",
       "    <tr>\n",
       "      <th>УзАвто-Казахстан</th>\n",
       "      <td>1727</td>\n",
       "      <td>9929.484655</td>\n",
       "      <td>20</td>\n",
       "    </tr>\n",
       "    <tr>\n",
       "      <th>Allur Auto</th>\n",
       "      <td>1304</td>\n",
       "      <td>21520.986963</td>\n",
       "      <td>18</td>\n",
       "    </tr>\n",
       "    <tr>\n",
       "      <th>Mercur Auto</th>\n",
       "      <td>723</td>\n",
       "      <td>40742.125628</td>\n",
       "      <td>6</td>\n",
       "    </tr>\n",
       "    <tr>\n",
       "      <th>Renault Россия</th>\n",
       "      <td>633</td>\n",
       "      <td>13168.995261</td>\n",
       "      <td>14</td>\n",
       "    </tr>\n",
       "    <tr>\n",
       "      <th>Лифан Моторс Рус</th>\n",
       "      <td>566</td>\n",
       "      <td>14026.012367</td>\n",
       "      <td>9</td>\n",
       "    </tr>\n",
       "    <tr>\n",
       "      <th>Subaru Kazakhstan</th>\n",
       "      <td>520</td>\n",
       "      <td>33290.869231</td>\n",
       "      <td>15</td>\n",
       "    </tr>\n",
       "    <tr>\n",
       "      <th>Автоцентр-Бавария</th>\n",
       "      <td>388</td>\n",
       "      <td>123021.380711</td>\n",
       "      <td>5</td>\n",
       "    </tr>\n",
       "    <tr>\n",
       "      <th>ММС Рус</th>\n",
       "      <td>360</td>\n",
       "      <td>42056.458333</td>\n",
       "      <td>8</td>\n",
       "    </tr>\n",
       "    <tr>\n",
       "      <th>Каспиан Моторс</th>\n",
       "      <td>183</td>\n",
       "      <td>17496.945355</td>\n",
       "      <td>7</td>\n",
       "    </tr>\n",
       "    <tr>\n",
       "      <th>Autokapital</th>\n",
       "      <td>163</td>\n",
       "      <td>104302.206186</td>\n",
       "      <td>7</td>\n",
       "    </tr>\n",
       "    <tr>\n",
       "      <th>Hyundai Com Trans Kazakhstan</th>\n",
       "      <td>104</td>\n",
       "      <td>205924.461538</td>\n",
       "      <td>1</td>\n",
       "    </tr>\n",
       "    <tr>\n",
       "      <th>Daewoo Bus Kazakhstan</th>\n",
       "      <td>92</td>\n",
       "      <td>615307.400000</td>\n",
       "      <td>5</td>\n",
       "    </tr>\n",
       "    <tr>\n",
       "      <th>Хино Моторс Казахстан</th>\n",
       "      <td>62</td>\n",
       "      <td>76190.000000</td>\n",
       "      <td>2</td>\n",
       "    </tr>\n",
       "    <tr>\n",
       "      <th>Eurasia Motor Premium</th>\n",
       "      <td>24</td>\n",
       "      <td>91611.500000</td>\n",
       "      <td>2</td>\n",
       "    </tr>\n",
       "    <tr>\n",
       "      <th>СВС</th>\n",
       "      <td>24</td>\n",
       "      <td>35664.166667</td>\n",
       "      <td>1</td>\n",
       "    </tr>\n",
       "    <tr>\n",
       "      <th>Scandinavian Motors</th>\n",
       "      <td>22</td>\n",
       "      <td>67833.909091</td>\n",
       "      <td>1</td>\n",
       "    </tr>\n",
       "    <tr>\n",
       "      <th>ТК Рос-Авто</th>\n",
       "      <td>15</td>\n",
       "      <td>21862.800000</td>\n",
       "      <td>1</td>\n",
       "    </tr>\n",
       "    <tr>\n",
       "      <th>Scania Central Asia</th>\n",
       "      <td>9</td>\n",
       "      <td>260526.500000</td>\n",
       "      <td>1</td>\n",
       "    </tr>\n",
       "    <tr>\n",
       "      <th>Sivi Finance Consulting</th>\n",
       "      <td>4</td>\n",
       "      <td>103905.750000</td>\n",
       "      <td>1</td>\n",
       "    </tr>\n",
       "    <tr>\n",
       "      <th>Jaguar Land Rover</th>\n",
       "      <td>2</td>\n",
       "      <td>45957.000000</td>\n",
       "      <td>2</td>\n",
       "    </tr>\n",
       "    <tr>\n",
       "      <th>SMC</th>\n",
       "      <td>1</td>\n",
       "      <td>22127.000000</td>\n",
       "      <td>1</td>\n",
       "    </tr>\n",
       "    <tr>\n",
       "      <th>Алматы АТО</th>\n",
       "      <td>1</td>\n",
       "      <td>14886.000000</td>\n",
       "      <td>1</td>\n",
       "    </tr>\n",
       "  </tbody>\n",
       "</table>\n",
       "</div>"
      ],
      "text/plain": [
       "                               Количество проданных авто  \\\n",
       "company                                                    \n",
       "БИПЭК АВТО                                         12510   \n",
       "Toyota Motor Kazakhstan                            10425   \n",
       "Astana Motors                                       5779   \n",
       "Вираж                                               3358   \n",
       "Nissan Manufacturing RUS                            1739   \n",
       "УзАвто-Казахстан                                    1727   \n",
       "Allur Auto                                          1304   \n",
       "Mercur Auto                                          723   \n",
       "Renault Россия                                       633   \n",
       "Лифан Моторс Рус                                     566   \n",
       "Subaru Kazakhstan                                    520   \n",
       "Автоцентр-Бавария                                    388   \n",
       "ММС Рус                                              360   \n",
       "Каспиан Моторс                                       183   \n",
       "Autokapital                                          163   \n",
       "Hyundai Com Trans Kazakhstan                         104   \n",
       "Daewoo Bus Kazakhstan                                 92   \n",
       "Хино Моторс Казахстан                                 62   \n",
       "Eurasia Motor Premium                                 24   \n",
       "СВС                                                   24   \n",
       "Scandinavian Motors                                   22   \n",
       "ТК Рос-Авто                                           15   \n",
       "Scania Central Asia                                    9   \n",
       "Sivi Finance Consulting                                4   \n",
       "Jaguar Land Rover                                      2   \n",
       "SMC                                                    1   \n",
       "Алматы АТО                                             1   \n",
       "\n",
       "                               Средняя цена покупки  \\\n",
       "company                                               \n",
       "БИПЭК АВТО                             45039.208160   \n",
       "Toyota Motor Kazakhstan                44811.023118   \n",
       "Astana Motors                          22425.561978   \n",
       "Вираж                                  17306.512507   \n",
       "Nissan Manufacturing RUS               42331.768102   \n",
       "УзАвто-Казахстан                        9929.484655   \n",
       "Allur Auto                             21520.986963   \n",
       "Mercur Auto                            40742.125628   \n",
       "Renault Россия                         13168.995261   \n",
       "Лифан Моторс Рус                       14026.012367   \n",
       "Subaru Kazakhstan                      33290.869231   \n",
       "Автоцентр-Бавария                     123021.380711   \n",
       "ММС Рус                                42056.458333   \n",
       "Каспиан Моторс                         17496.945355   \n",
       "Autokapital                           104302.206186   \n",
       "Hyundai Com Trans Kazakhstan          205924.461538   \n",
       "Daewoo Bus Kazakhstan                 615307.400000   \n",
       "Хино Моторс Казахстан                  76190.000000   \n",
       "Eurasia Motor Premium                  91611.500000   \n",
       "СВС                                    35664.166667   \n",
       "Scandinavian Motors                    67833.909091   \n",
       "ТК Рос-Авто                            21862.800000   \n",
       "Scania Central Asia                   260526.500000   \n",
       "Sivi Finance Consulting               103905.750000   \n",
       "Jaguar Land Rover                      45957.000000   \n",
       "SMC                                    22127.000000   \n",
       "Алматы АТО                             14886.000000   \n",
       "\n",
       "                               Количество регионов с автосалонами  \n",
       "company                                                            \n",
       "БИПЭК АВТО                                                     20  \n",
       "Toyota Motor Kazakhstan                                        15  \n",
       "Astana Motors                                                  16  \n",
       "Вираж                                                          18  \n",
       "Nissan Manufacturing RUS                                       11  \n",
       "УзАвто-Казахстан                                               20  \n",
       "Allur Auto                                                     18  \n",
       "Mercur Auto                                                     6  \n",
       "Renault Россия                                                 14  \n",
       "Лифан Моторс Рус                                                9  \n",
       "Subaru Kazakhstan                                              15  \n",
       "Автоцентр-Бавария                                               5  \n",
       "ММС Рус                                                         8  \n",
       "Каспиан Моторс                                                  7  \n",
       "Autokapital                                                     7  \n",
       "Hyundai Com Trans Kazakhstan                                    1  \n",
       "Daewoo Bus Kazakhstan                                           5  \n",
       "Хино Моторс Казахстан                                           2  \n",
       "Eurasia Motor Premium                                           2  \n",
       "СВС                                                             1  \n",
       "Scandinavian Motors                                             1  \n",
       "ТК Рос-Авто                                                     1  \n",
       "Scania Central Asia                                             1  \n",
       "Sivi Finance Consulting                                         1  \n",
       "Jaguar Land Rover                                               2  \n",
       "SMC                                                             1  \n",
       "Алматы АТО                                                      1  "
      ]
     },
     "execution_count": 106,
     "metadata": {},
     "output_type": "execute_result"
    }
   ],
   "source": [
    "company_group = new_data.pivot_table(index = 'company', \\\n",
    "                                     values = ['quantity', 'region', 'really_price'], \\\n",
    "                                     aggfunc={'quantity': 'sum', 'region': 'nunique', 'really_price': 'mean'})\n",
    "company_group.columns = ['Количество проданных авто', 'Средняя цена покупки', 'Количество регионов с автосалонами']\n",
    "company_group = company_group.sort_values(by = ['Количество проданных авто', 'Средняя цена покупки'], ascending = False)\n",
    "company_group"
   ]
  },
  {
   "cell_type": "markdown",
   "metadata": {},
   "source": [
    "Явными конкурентами являются лидеры рынка Toyota Motor Kazakhstan и БИПЭК АВТО. Посмотрим их долю на рынке."
   ]
  },
  {
   "cell_type": "code",
   "execution_count": 107,
   "metadata": {},
   "outputs": [
    {
     "name": "stdout",
     "output_type": "stream",
     "text": [
      "Доля рынка в количественном выражении: 30.71\n",
      "Доля рынка в денежном выражении: 14.74\n"
     ]
    }
   ],
   "source": [
    "part('БИПЭК АВТО')"
   ]
  },
  {
   "cell_type": "code",
   "execution_count": 108,
   "metadata": {},
   "outputs": [
    {
     "name": "stdout",
     "output_type": "stream",
     "text": [
      "Доля рынка в количественном выражении: 25.59\n",
      "Доля рынка в денежном выражении: 45.53\n"
     ]
    }
   ],
   "source": [
    "part('Toyota Motor Kazakhstan')"
   ]
  },
  {
   "cell_type": "markdown",
   "metadata": {},
   "source": [
    "Здесь, конечно, существенные доли рынка. Посмотрим ближайших конкурентов Allur Auto, Nissan Manufacturing RUS и Автоцентр-Бавария."
   ]
  },
  {
   "cell_type": "code",
   "execution_count": 109,
   "metadata": {},
   "outputs": [
    {
     "name": "stdout",
     "output_type": "stream",
     "text": [
      "Доля рынка в количественном выражении: 3.2\n",
      "Доля рынка в денежном выражении: 2.74\n"
     ]
    }
   ],
   "source": [
    "part('Allur Auto')"
   ]
  },
  {
   "cell_type": "code",
   "execution_count": 110,
   "metadata": {},
   "outputs": [
    {
     "name": "stdout",
     "output_type": "stream",
     "text": [
      "Доля рынка в количественном выражении: 4.27\n",
      "Доля рынка в денежном выражении: 4.22\n"
     ]
    }
   ],
   "source": [
    "part('Nissan Manufacturing RUS')"
   ]
  },
  {
   "cell_type": "code",
   "execution_count": 111,
   "metadata": {},
   "outputs": [
    {
     "name": "stdout",
     "output_type": "stream",
     "text": [
      "Доля рынка в количественном выражении: 0.95\n",
      "Доля рынка в денежном выражении: 2.36\n"
     ]
    }
   ],
   "source": [
    "part('Автоцентр-Бавария')"
   ]
  },
  {
   "cell_type": "code",
   "execution_count": 112,
   "metadata": {},
   "outputs": [
    {
     "data": {
      "text/html": [
       "<div>\n",
       "<style scoped>\n",
       "    .dataframe tbody tr th:only-of-type {\n",
       "        vertical-align: middle;\n",
       "    }\n",
       "\n",
       "    .dataframe tbody tr th {\n",
       "        vertical-align: top;\n",
       "    }\n",
       "\n",
       "    .dataframe thead th {\n",
       "        text-align: right;\n",
       "    }\n",
       "</style>\n",
       "<table border=\"1\" class=\"dataframe\">\n",
       "  <thead>\n",
       "    <tr style=\"text-align: right;\">\n",
       "      <th></th>\n",
       "      <th>Количество проданных авто</th>\n",
       "      <th>Средняя цена покупки</th>\n",
       "      <th>Количество регионов с автосалонами</th>\n",
       "    </tr>\n",
       "    <tr>\n",
       "      <th>company</th>\n",
       "      <th></th>\n",
       "      <th></th>\n",
       "      <th></th>\n",
       "    </tr>\n",
       "  </thead>\n",
       "  <tbody>\n",
       "    <tr>\n",
       "      <th>Nissan Manufacturing RUS</th>\n",
       "      <td>1739</td>\n",
       "      <td>42331.768102</td>\n",
       "      <td>11</td>\n",
       "    </tr>\n",
       "    <tr>\n",
       "      <th>Allur Auto</th>\n",
       "      <td>1304</td>\n",
       "      <td>21520.986963</td>\n",
       "      <td>18</td>\n",
       "    </tr>\n",
       "    <tr>\n",
       "      <th>Mercur Auto</th>\n",
       "      <td>723</td>\n",
       "      <td>40742.125628</td>\n",
       "      <td>6</td>\n",
       "    </tr>\n",
       "    <tr>\n",
       "      <th>Автоцентр-Бавария</th>\n",
       "      <td>388</td>\n",
       "      <td>123021.380711</td>\n",
       "      <td>5</td>\n",
       "    </tr>\n",
       "  </tbody>\n",
       "</table>\n",
       "</div>"
      ],
      "text/plain": [
       "                          Количество проданных авто  Средняя цена покупки  \\\n",
       "company                                                                     \n",
       "Nissan Manufacturing RUS                       1739          42331.768102   \n",
       "Allur Auto                                     1304          21520.986963   \n",
       "Mercur Auto                                     723          40742.125628   \n",
       "Автоцентр-Бавария                               388         123021.380711   \n",
       "\n",
       "                          Количество регионов с автосалонами  \n",
       "company                                                       \n",
       "Nissan Manufacturing RUS                                  11  \n",
       "Allur Auto                                                18  \n",
       "Mercur Auto                                                6  \n",
       "Автоцентр-Бавария                                          5  "
      ]
     },
     "execution_count": 112,
     "metadata": {},
     "output_type": "execute_result"
    }
   ],
   "source": [
    "company_group.query('company in [\"Allur Auto\", \"Mercur Auto\", \"Nissan Manufacturing RUS\", \"Автоцентр-Бавария\"]')"
   ]
  },
  {
   "cell_type": "markdown",
   "metadata": {},
   "source": [
    "###### Сравнение с Allur Auto.\n",
    "\n",
    "У Mercur auto в два раза меньше проданных машин, в два раза выше средний чек покупки. B 3 раза больше регионов, в которых находятся автоцентры. Выше доля рынка в количественном выражении и примерно одинаковая доля в денежном выражении.\n",
    "\n",
    "\n",
    "###### Сравнение с Nissan Manufacturing RUS.\n",
    "\n",
    "У Nissan Manufacturing RUS почти в 3 раза больше проданных машин, почти в два раза больше регионов с автосалонами и примерно одинаковый средний чек. Доля рынка выше во всех выражениях.\n",
    "\n",
    "\n",
    "###### Сравнение с Автоцентр Бавария.\n",
    "\n",
    "Количество проданных машин в два раза меньше, но средний чек в 3 раза больше. Количество регионов с автосалонами примерно одинаковое. Доли рынка в денежном выражении примерно равны."
   ]
  },
  {
   "cell_type": "markdown",
   "metadata": {},
   "source": [
    "## Вывод:"
   ]
  },
  {
   "cell_type": "markdown",
   "metadata": {},
   "source": [
    "Был проведен анализ базы данных о продажах автомобилей в Казахстане в 2019 году. \n",
    "В результате анализа была выполнена масштабная предобработка данных, в ходе которой удалены столбцы, не влияющие на результат анализ, удалены строки с пропущенными значениями (процент потерянных данных - 8%), изменены типы данных, устранены неявные дубликаты, устранены аномальные значения. Также в общую таблицу был добавлен столбец, содержащий информацию о дате покупки.\n",
    "\n",
    "Лидером на рынке Казахстана по количеству купленных автомобилей являются автомобили Lada, в денежном выражении - автомобили марки Toyota. Также в топ-5 марок входят Hyundai, GAZ, Lada. Lexus в топе в денежном выражении, а Kia в натуральном выражении.\n",
    "\n",
    "Анализируя продажи в динамике получились следующие выводы:  Самыми популярными являются автомобили B класса, однако начиная с июля наблюдается снижение количества проданных авто. С мая по июль возрастает спрос на автомобили E класса. C августа увеличивается количество продаж автомобилей класса 'Компактные SUV'. Самыми популярными являются автомобили на бензиновом топливе. На графике также видно увеличение количества проданных автомобилей в июне, июле и сентябре. Автомобили на других видах топлива распределены равномерно по году. Наибольшее количество авто приобретают в Алматы и в Астане.\n",
    "\n",
    "Анализ дилера Mercur Auto показал следующие результаты: \n",
    "Общая прибыль дилера за 2019 год составила 24323049 usd, половину которой составила прибыль от продажи авто Volkswagen (11450662 usd). Средняя стоимость продаж выше у Porshe, что логично, ведь это премиальный класс. Ежемесячная прибыль дилера 'Mercur Auto' была на пике с мая по июль, судя по графику прибыли по брендам, за счет продаж автомобилей Volkswagen. Ежемесячная средняя стоимость продажи имеет максимумы в марте и августе, в эти месяца были совершены покупки Porshe.\n",
    "Данный дилер имеет 100% долю рынка по продажам автомобилей моделей Audi, Porsche, Volkswagen.\n",
    "Ближайшими конкурентами являются дилеры - Allur Auto, Nissan Manufacturing RUS и Автоцентр-Бавария."
   ]
  },
  {
   "cell_type": "markdown",
   "metadata": {},
   "source": [
    "Рекомендации дилеру как увеличить долю на рынке:\n",
    " * расширить модельный ряд автомобилей;\n",
    " * открыть автосалоны в новых регионах;\n",
    " * разработать программа лояльности для удержания клиентов;\n",
    " * запустить рекламу для привлечения клиентов."
   ]
  }
 ],
 "metadata": {
  "kernelspec": {
   "display_name": "Python 3",
   "language": "python",
   "name": "python3"
  },
  "language_info": {
   "codemirror_mode": {
    "name": "ipython",
    "version": 3
   },
   "file_extension": ".py",
   "mimetype": "text/x-python",
   "name": "python",
   "nbconvert_exporter": "python",
   "pygments_lexer": "ipython3",
   "version": "3.7.0"
  },
  "nbTranslate": {
   "displayLangs": [
    "*"
   ],
   "hotkey": "alt-t",
   "langInMainMenu": true,
   "sourceLang": "en",
   "targetLang": "fr",
   "useGoogleTranslate": true
  },
  "toc": {
   "base_numbering": 1,
   "nav_menu": {},
   "number_sections": true,
   "sideBar": true,
   "skip_h1_title": true,
   "title_cell": "Table of Contents",
   "title_sidebar": "Contents",
   "toc_cell": true,
   "toc_position": {},
   "toc_section_display": true,
   "toc_window_display": true
  },
  "varInspector": {
   "cols": {
    "lenName": 16,
    "lenType": 16,
    "lenVar": 40
   },
   "kernels_config": {
    "python": {
     "delete_cmd_postfix": "",
     "delete_cmd_prefix": "del ",
     "library": "var_list.py",
     "varRefreshCmd": "print(var_dic_list())"
    },
    "r": {
     "delete_cmd_postfix": ") ",
     "delete_cmd_prefix": "rm(",
     "library": "var_list.r",
     "varRefreshCmd": "cat(var_dic_list()) "
    }
   },
   "types_to_exclude": [
    "module",
    "function",
    "builtin_function_or_method",
    "instance",
    "_Feature"
   ],
   "window_display": false
  }
 },
 "nbformat": 4,
 "nbformat_minor": 2
}
